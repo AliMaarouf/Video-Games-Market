{
 "cells": [
  {
   "cell_type": "markdown",
   "metadata": {},
   "source": [
    "# Исследование продажи видео-игр "
   ]
  },
  {
   "cell_type": "markdown",
   "metadata": {},
   "source": [
    "Интернет-магазине «Стримчик» продаёт по всему миру компьютерные игры. Из открытых источников доступны исторические данные о продажах игр, оценки пользователей и экспертов, жанры и платформы (например, Xbox или PlayStation). Нужно выявить определяющие успешность игры закономерности. Это позволит сделать ставку на потенциально популярный продукт и спланировать рекламные кампании.\n",
    "\n",
    "==Описание данных: \n",
    "- Name — название игры\n",
    "- Platform — платформа\n",
    "- Year_of_Release — год выпуска\n",
    "- Genre — жанр игры\n",
    "- NA_sales — продажи в Северной Америке (миллионы проданных копий)\n",
    "- EU_sales — продажи в Европе (миллионы проданных копий)\n",
    "- JP_sales — продажи в Японии (миллионы проданных копий)\n",
    "- Other_sales — продажи в других странах (миллионы проданных копий)\n",
    "- Critic_Score — оценка критиков (максимум 100)\n",
    "- User_Score — оценка пользователей (максимум 10)\n",
    "- Rating — рейтинг от организации ESRB (англ. Entertainment Software Rating Board). Эта ассоциация определяет рейтинг компьютерных игр и присваивает им подходящую возрастную категорию."
   ]
  },
  {
   "cell_type": "markdown",
   "metadata": {},
   "source": [
    "## Изучение данных "
   ]
  },
  {
   "cell_type": "code",
   "execution_count": 1,
   "metadata": {},
   "outputs": [
    {
     "name": "stdout",
     "output_type": "stream",
     "text": [
      "<class 'pandas.core.frame.DataFrame'>\n",
      "RangeIndex: 16715 entries, 0 to 16714\n",
      "Data columns (total 11 columns):\n",
      "Name               16713 non-null object\n",
      "Platform           16715 non-null object\n",
      "Year_of_Release    16446 non-null float64\n",
      "Genre              16713 non-null object\n",
      "NA_sales           16715 non-null float64\n",
      "EU_sales           16715 non-null float64\n",
      "JP_sales           16715 non-null float64\n",
      "Other_sales        16715 non-null float64\n",
      "Critic_Score       8137 non-null float64\n",
      "User_Score         10014 non-null object\n",
      "Rating             9949 non-null object\n",
      "dtypes: float64(6), object(5)\n",
      "memory usage: 1.4+ MB\n"
     ]
    }
   ],
   "source": [
    "# Первычное изучение данных \n",
    "import pandas as pd\n",
    "import matplotlib.pyplot as plt\n",
    "import numpy as np \n",
    "from scipy import stats as st\n",
    "data = pd.read_csv('/datasets/games.csv')\n",
    "data.info()"
   ]
  },
  {
   "cell_type": "markdown",
   "metadata": {},
   "source": [
    "- Много пропущенных значений в переменных (Critic_Score, User_Score, Rating). \n",
    "- В переменной User_Score многие значения 'tbd', что означает отсутствие достаточного числа оценок пользователей для вывода суммарной оценки. \n",
    "- Стоит написать названия всех столбцов строчными буквами. \n",
    "- Необходимо превратить тип переменной User_Score в float. \n",
    "- В данных отсутствуют дубликаты."
   ]
  },
  {
   "cell_type": "markdown",
   "metadata": {},
   "source": [
    "## Подготовка данных "
   ]
  },
  {
   "cell_type": "code",
   "execution_count": 2,
   "metadata": {},
   "outputs": [],
   "source": [
    "#Изменение названий столбцов \n",
    "data.columns = data.columns.str.lower()\n",
    "\n",
    "#Изменение типов переменных \n",
    "data.loc[data['year_of_release'].isna() ,'year_of_release'] = 0\n",
    "data['year_of_release'].astype('int')\n",
    "\n",
    "data.loc[data['user_score'] == 'tbd','user_score'] = 11\n",
    "data['user_score'] = pd.to_numeric(data['user_score'])\n",
    "\n",
    "#расчет суммарных продаж во всех регионах \n",
    "data['all_sales'] = data['na_sales'] + data['eu_sales'] + data['jp_sales'] + data['other_sales']"
   ]
  },
  {
   "cell_type": "markdown",
   "metadata": {},
   "source": [
    "<div class=\"alert alert-success\">\n",
    "<font size=\"5\"><b>Комментарий ревьюера</b></font>\n",
    "\n",
    "Верно, по своей сути tbd и является пропуском. Отлично, что определяешь неявные пропущенные значения. Только можно осуществить замену на nan. \n",
    "\n",
    "</div>"
   ]
  },
  {
   "cell_type": "markdown",
   "metadata": {},
   "source": [
    "- Чтобы смог превратить тип переменной year_of_release в int необходимо было заполнить пропущенные значения нулями. \n",
    "- Чтобы смог превратить тип переменной user_score в float необходимо было поменять значение 'tbd' на число, которое не входит в шкалу оценок. "
   ]
  },
  {
   "cell_type": "markdown",
   "metadata": {},
   "source": [
    "## Исследовательский анализ данных"
   ]
  },
  {
   "cell_type": "code",
   "execution_count": 3,
   "metadata": {},
   "outputs": [
    {
     "name": "stdout",
     "output_type": "stream",
     "text": [
      "                 name\n",
      "                count\n",
      "year_of_release      \n",
      "0.0               269\n",
      "1980.0              9\n",
      "1981.0             46\n",
      "1982.0             36\n",
      "1983.0             17\n",
      "1984.0             14\n",
      "1985.0             14\n",
      "1986.0             21\n",
      "1987.0             16\n",
      "1988.0             15\n",
      "1989.0             17\n",
      "1990.0             16\n",
      "1991.0             41\n",
      "1992.0             43\n",
      "1993.0             60\n",
      "1994.0            121\n",
      "1995.0            219\n",
      "1996.0            263\n",
      "1997.0            289\n",
      "1998.0            379\n",
      "1999.0            338\n",
      "2000.0            350\n",
      "2001.0            482\n",
      "2002.0            829\n",
      "2003.0            775\n",
      "2004.0            762\n",
      "2005.0            939\n",
      "2006.0           1006\n",
      "2007.0           1197\n",
      "2008.0           1427\n",
      "2009.0           1426\n",
      "2010.0           1255\n",
      "2011.0           1136\n",
      "2012.0            653\n",
      "2013.0            544\n",
      "2014.0            581\n",
      "2015.0            606\n",
      "2016.0            502\n"
     ]
    }
   ],
   "source": [
    "#Число выпсукаемых игр по годам \n",
    "print(data.groupby('year_of_release').agg({'name':['count']}))\n",
    "data = data.query('year_of_release > 1993')"
   ]
  },
  {
   "cell_type": "markdown",
   "metadata": {},
   "source": [
    "- До 1993 года меньше 100 игр выпускались каждый год. Пока что стоит анализировать данные начиная с 1994 года. "
   ]
  },
  {
   "cell_type": "code",
   "execution_count": 4,
   "metadata": {},
   "outputs": [
    {
     "name": "stdout",
     "output_type": "stream",
     "text": [
      "   platform  all_sales\n",
      "14      PS2    1233.56\n",
      "26     X360     961.24\n",
      "15      PS3     931.34\n",
      "24      Wii     891.18\n",
      "3        DS     802.76\n",
      "13       PS     727.58\n",
      "16      PS4     314.14\n",
      "5       GBA     312.88\n",
      "17      PSP     289.53\n",
      "1       3DS     257.81\n",
      "11       PC     252.66\n",
      "27       XB     251.57\n",
      "8       N64     218.01\n",
      "6        GC     196.73\n",
      "28     XOne     159.32\n",
      "4        GB     152.08\n",
      "21     SNES      84.67\n",
      "25     WiiU      82.19\n",
      "18      PSV      53.81\n",
      "19      SAT      33.59\n",
      "2        DC      15.95\n",
      "7       GEN       8.13\n",
      "23       WS       1.42\n",
      "10       NG       1.23\n",
      "20      SCD       0.36\n",
      "22     TG16       0.16\n",
      "9       NES       0.11\n",
      "0       3DO       0.10\n",
      "12     PCFX       0.03\n"
     ]
    }
   ],
   "source": [
    "# Определение самых популярных платформ \n",
    "platforms = data.groupby(['platform']).agg({'all_sales':['sum']}).reset_index()\n",
    "platforms.columns = ['platform','all_sales']\n",
    "print(platforms.sort_values(by='all_sales', ascending= False))"
   ]
  },
  {
   "cell_type": "code",
   "execution_count": 5,
   "metadata": {},
   "outputs": [
    {
     "data": {
      "text/plain": [
       "platform\n",
       "DS      AxesSubplot(0.125,0.125;0.775x0.755)\n",
       "PS      AxesSubplot(0.125,0.125;0.775x0.755)\n",
       "PS2     AxesSubplot(0.125,0.125;0.775x0.755)\n",
       "PS3     AxesSubplot(0.125,0.125;0.775x0.755)\n",
       "Wii     AxesSubplot(0.125,0.125;0.775x0.755)\n",
       "X360    AxesSubplot(0.125,0.125;0.775x0.755)\n",
       "dtype: object"
      ]
     },
     "execution_count": 5,
     "metadata": {},
     "output_type": "execute_result"
    },
    {
     "data": {
      "image/png": "[encoded data removed]",
      "text/plain": [
       "<Figure size 864x576 with 1 Axes>"
      ]
     },
     "metadata": {
      "needs_background": "light"
     },
     "output_type": "display_data"
    },
    {
     "data": {
      "image/png": "[encoded data removed]",
      "text/plain": [
       "<Figure size 864x576 with 1 Axes>"
      ]
     },
     "metadata": {
      "needs_background": "light"
     },
     "output_type": "display_data"
    },
    {
     "data": {
      "image/png": "[encoded data removed]",
      "text/plain": [
       "<Figure size 864x576 with 1 Axes>"
      ]
     },
     "metadata": {
      "needs_background": "light"
     },
     "output_type": "display_data"
    },
    {
     "data": {
      "image/png": "[encoded data removed]",
      "text/plain": [
       "<Figure size 864x576 with 1 Axes>"
      ]
     },
     "metadata": {
      "needs_background": "light"
     },
     "output_type": "display_data"
    },
    {
     "data": {
      "image/png": "[encoded data removed]",
      "text/plain": [
       "<Figure size 864x576 with 1 Axes>"
      ]
     },
     "metadata": {
      "needs_background": "light"
     },
     "output_type": "display_data"
    },
    {
     "data": {
      "image/png": "[encoded data removed]",
      "text/plain": [
       "<Figure size 864x576 with 1 Axes>"
      ]
     },
     "metadata": {
      "needs_background": "light"
     },
     "output_type": "display_data"
    }
   ],
   "source": [
    "#Изучение жизненного цикла платформы  \n",
    "platforms_by_year = data[data['platform'].isin([\"PS2\", \"X360\", \"PS3\", \"Wii\", \"DS\", \"PS\"])]\n",
    "platforms_by_year = platforms_by_year.groupby(['platform','year_of_release']).agg({'all_sales':['sum']}).reset_index()\n",
    "platforms_by_year.columns = ['platform','year','all_sales']\n",
    "platforms_by_year.groupby(['platform']).plot(x='year', y='all_sales', kind= 'bar', figsize=(12,8))"
   ]
  },
  {
   "cell_type": "code",
   "execution_count": 6,
   "metadata": {},
   "outputs": [
    {
     "name": "stdout",
     "output_type": "stream",
     "text": [
      "5.0\n"
     ]
    },
    {
     "data": {
      "text/html": [
       "<div>\n",
       "<style scoped>\n",
       "    .dataframe tbody tr th:only-of-type {\n",
       "        vertical-align: middle;\n",
       "    }\n",
       "\n",
       "    .dataframe tbody tr th {\n",
       "        vertical-align: top;\n",
       "    }\n",
       "\n",
       "    .dataframe thead th {\n",
       "        text-align: right;\n",
       "    }\n",
       "</style>\n",
       "<table border=\"1\" class=\"dataframe\">\n",
       "  <thead>\n",
       "    <tr style=\"text-align: right;\">\n",
       "      <th></th>\n",
       "      <th>platform</th>\n",
       "      <th>year_min</th>\n",
       "      <th>year_max</th>\n",
       "      <th>life_cycle</th>\n",
       "    </tr>\n",
       "  </thead>\n",
       "  <tbody>\n",
       "    <tr>\n",
       "      <td>0</td>\n",
       "      <td>3DO</td>\n",
       "      <td>1994.0</td>\n",
       "      <td>1995.0</td>\n",
       "      <td>1.0</td>\n",
       "    </tr>\n",
       "    <tr>\n",
       "      <td>1</td>\n",
       "      <td>3DS</td>\n",
       "      <td>2011.0</td>\n",
       "      <td>2016.0</td>\n",
       "      <td>5.0</td>\n",
       "    </tr>\n",
       "    <tr>\n",
       "      <td>2</td>\n",
       "      <td>DC</td>\n",
       "      <td>1998.0</td>\n",
       "      <td>2008.0</td>\n",
       "      <td>10.0</td>\n",
       "    </tr>\n",
       "    <tr>\n",
       "      <td>3</td>\n",
       "      <td>DS</td>\n",
       "      <td>2004.0</td>\n",
       "      <td>2013.0</td>\n",
       "      <td>9.0</td>\n",
       "    </tr>\n",
       "    <tr>\n",
       "      <td>4</td>\n",
       "      <td>GB</td>\n",
       "      <td>1994.0</td>\n",
       "      <td>2001.0</td>\n",
       "      <td>7.0</td>\n",
       "    </tr>\n",
       "    <tr>\n",
       "      <td>5</td>\n",
       "      <td>GBA</td>\n",
       "      <td>2000.0</td>\n",
       "      <td>2007.0</td>\n",
       "      <td>7.0</td>\n",
       "    </tr>\n",
       "    <tr>\n",
       "      <td>6</td>\n",
       "      <td>GC</td>\n",
       "      <td>2001.0</td>\n",
       "      <td>2007.0</td>\n",
       "      <td>6.0</td>\n",
       "    </tr>\n",
       "    <tr>\n",
       "      <td>7</td>\n",
       "      <td>GEN</td>\n",
       "      <td>1994.0</td>\n",
       "      <td>1994.0</td>\n",
       "      <td>0.0</td>\n",
       "    </tr>\n",
       "    <tr>\n",
       "      <td>8</td>\n",
       "      <td>N64</td>\n",
       "      <td>1996.0</td>\n",
       "      <td>2002.0</td>\n",
       "      <td>6.0</td>\n",
       "    </tr>\n",
       "    <tr>\n",
       "      <td>9</td>\n",
       "      <td>NES</td>\n",
       "      <td>1994.0</td>\n",
       "      <td>1994.0</td>\n",
       "      <td>0.0</td>\n",
       "    </tr>\n",
       "    <tr>\n",
       "      <td>10</td>\n",
       "      <td>NG</td>\n",
       "      <td>1994.0</td>\n",
       "      <td>1996.0</td>\n",
       "      <td>2.0</td>\n",
       "    </tr>\n",
       "    <tr>\n",
       "      <td>11</td>\n",
       "      <td>PC</td>\n",
       "      <td>1994.0</td>\n",
       "      <td>2016.0</td>\n",
       "      <td>22.0</td>\n",
       "    </tr>\n",
       "    <tr>\n",
       "      <td>12</td>\n",
       "      <td>PCFX</td>\n",
       "      <td>1996.0</td>\n",
       "      <td>1996.0</td>\n",
       "      <td>0.0</td>\n",
       "    </tr>\n",
       "    <tr>\n",
       "      <td>13</td>\n",
       "      <td>PS</td>\n",
       "      <td>1994.0</td>\n",
       "      <td>2003.0</td>\n",
       "      <td>9.0</td>\n",
       "    </tr>\n",
       "    <tr>\n",
       "      <td>14</td>\n",
       "      <td>PS2</td>\n",
       "      <td>2000.0</td>\n",
       "      <td>2011.0</td>\n",
       "      <td>11.0</td>\n",
       "    </tr>\n",
       "    <tr>\n",
       "      <td>15</td>\n",
       "      <td>PS3</td>\n",
       "      <td>2006.0</td>\n",
       "      <td>2016.0</td>\n",
       "      <td>10.0</td>\n",
       "    </tr>\n",
       "    <tr>\n",
       "      <td>16</td>\n",
       "      <td>PS4</td>\n",
       "      <td>2013.0</td>\n",
       "      <td>2016.0</td>\n",
       "      <td>3.0</td>\n",
       "    </tr>\n",
       "    <tr>\n",
       "      <td>17</td>\n",
       "      <td>PSP</td>\n",
       "      <td>2004.0</td>\n",
       "      <td>2015.0</td>\n",
       "      <td>11.0</td>\n",
       "    </tr>\n",
       "    <tr>\n",
       "      <td>18</td>\n",
       "      <td>PSV</td>\n",
       "      <td>2011.0</td>\n",
       "      <td>2016.0</td>\n",
       "      <td>5.0</td>\n",
       "    </tr>\n",
       "    <tr>\n",
       "      <td>19</td>\n",
       "      <td>SAT</td>\n",
       "      <td>1994.0</td>\n",
       "      <td>1999.0</td>\n",
       "      <td>5.0</td>\n",
       "    </tr>\n",
       "    <tr>\n",
       "      <td>20</td>\n",
       "      <td>SCD</td>\n",
       "      <td>1994.0</td>\n",
       "      <td>1994.0</td>\n",
       "      <td>0.0</td>\n",
       "    </tr>\n",
       "    <tr>\n",
       "      <td>21</td>\n",
       "      <td>SNES</td>\n",
       "      <td>1994.0</td>\n",
       "      <td>1999.0</td>\n",
       "      <td>5.0</td>\n",
       "    </tr>\n",
       "    <tr>\n",
       "      <td>22</td>\n",
       "      <td>TG16</td>\n",
       "      <td>1995.0</td>\n",
       "      <td>1995.0</td>\n",
       "      <td>0.0</td>\n",
       "    </tr>\n",
       "    <tr>\n",
       "      <td>23</td>\n",
       "      <td>WS</td>\n",
       "      <td>1999.0</td>\n",
       "      <td>2001.0</td>\n",
       "      <td>2.0</td>\n",
       "    </tr>\n",
       "    <tr>\n",
       "      <td>24</td>\n",
       "      <td>Wii</td>\n",
       "      <td>2006.0</td>\n",
       "      <td>2016.0</td>\n",
       "      <td>10.0</td>\n",
       "    </tr>\n",
       "    <tr>\n",
       "      <td>25</td>\n",
       "      <td>WiiU</td>\n",
       "      <td>2012.0</td>\n",
       "      <td>2016.0</td>\n",
       "      <td>4.0</td>\n",
       "    </tr>\n",
       "    <tr>\n",
       "      <td>26</td>\n",
       "      <td>X360</td>\n",
       "      <td>2005.0</td>\n",
       "      <td>2016.0</td>\n",
       "      <td>11.0</td>\n",
       "    </tr>\n",
       "    <tr>\n",
       "      <td>27</td>\n",
       "      <td>XB</td>\n",
       "      <td>2000.0</td>\n",
       "      <td>2008.0</td>\n",
       "      <td>8.0</td>\n",
       "    </tr>\n",
       "    <tr>\n",
       "      <td>28</td>\n",
       "      <td>XOne</td>\n",
       "      <td>2013.0</td>\n",
       "      <td>2016.0</td>\n",
       "      <td>3.0</td>\n",
       "    </tr>\n",
       "  </tbody>\n",
       "</table>\n",
       "</div>"
      ],
      "text/plain": [
       "   platform  year_min  year_max  life_cycle\n",
       "0       3DO    1994.0    1995.0         1.0\n",
       "1       3DS    2011.0    2016.0         5.0\n",
       "2        DC    1998.0    2008.0        10.0\n",
       "3        DS    2004.0    2013.0         9.0\n",
       "4        GB    1994.0    2001.0         7.0\n",
       "5       GBA    2000.0    2007.0         7.0\n",
       "6        GC    2001.0    2007.0         6.0\n",
       "7       GEN    1994.0    1994.0         0.0\n",
       "8       N64    1996.0    2002.0         6.0\n",
       "9       NES    1994.0    1994.0         0.0\n",
       "10       NG    1994.0    1996.0         2.0\n",
       "11       PC    1994.0    2016.0        22.0\n",
       "12     PCFX    1996.0    1996.0         0.0\n",
       "13       PS    1994.0    2003.0         9.0\n",
       "14      PS2    2000.0    2011.0        11.0\n",
       "15      PS3    2006.0    2016.0        10.0\n",
       "16      PS4    2013.0    2016.0         3.0\n",
       "17      PSP    2004.0    2015.0        11.0\n",
       "18      PSV    2011.0    2016.0         5.0\n",
       "19      SAT    1994.0    1999.0         5.0\n",
       "20      SCD    1994.0    1994.0         0.0\n",
       "21     SNES    1994.0    1999.0         5.0\n",
       "22     TG16    1995.0    1995.0         0.0\n",
       "23       WS    1999.0    2001.0         2.0\n",
       "24      Wii    2006.0    2016.0        10.0\n",
       "25     WiiU    2012.0    2016.0         4.0\n",
       "26     X360    2005.0    2016.0        11.0\n",
       "27       XB    2000.0    2008.0         8.0\n",
       "28     XOne    2013.0    2016.0         3.0"
      ]
     },
     "execution_count": 6,
     "metadata": {},
     "output_type": "execute_result"
    }
   ],
   "source": [
    "platforms_by_year2 = data.groupby(['platform']).agg({'year_of_release':['min','max']}).reset_index()\n",
    "platforms_by_year2.columns = ['platform','year_min','year_max']\n",
    "platforms_by_year2['life_cycle'] = platforms_by_year2['year_max'] - platforms_by_year2['year_min']\n",
    "print(platforms_by_year2['life_cycle'].median())\n",
    "platforms_by_year2"
   ]
  },
  {
   "cell_type": "markdown",
   "metadata": {},
   "source": [
    "- Жизненный цикл игровых платформ длится от 5 до 8 лет. Соответственно актуальный период для изучения нынешнего состояния рынка и предоставления прогнозов начинается  с 2010 года. "
   ]
  },
  {
   "cell_type": "code",
   "execution_count": 7,
   "metadata": {},
   "outputs": [
    {
     "name": "stdout",
     "output_type": "stream",
     "text": [
      "           sales\n",
      "platform        \n",
      "PS3       445.57\n",
      "X360      380.38\n",
      "PS4       314.14\n",
      "3DS       257.81\n",
      "XOne      159.32\n",
      "PC         97.68\n",
      "Wii        95.02\n",
      "WiiU       82.19\n",
      "PSV        53.81\n",
      "DS         38.73\n",
      "PSP        29.01\n",
      "PS2         0.45\n"
     ]
    }
   ],
   "source": [
    "# Определение платформ-лидеров продажи \n",
    "data_new = data.query('year_of_release > 2010')\n",
    "\n",
    "platfroms_leaders = data_new.groupby('platform').agg({'all_sales':['sum']})\n",
    "platfroms_leaders.columns = ['sales']\n",
    "\n",
    "print(platfroms_leaders.sort_values(by='sales', ascending = False))"
   ]
  },
  {
   "cell_type": "markdown",
   "metadata": {},
   "source": [
    "- За период с 2010 года по 2016 год 5 платформ лидируют продажи с большим отрывом от остальных платформ. "
   ]
  },
  {
   "cell_type": "code",
   "execution_count": 8,
   "metadata": {},
   "outputs": [
    {
     "data": {
      "text/plain": [
       "platform\n",
       "3DS     AxesSubplot(0.125,0.125;0.775x0.755)\n",
       "PS3     AxesSubplot(0.125,0.125;0.775x0.755)\n",
       "PS4     AxesSubplot(0.125,0.125;0.775x0.755)\n",
       "X360    AxesSubplot(0.125,0.125;0.775x0.755)\n",
       "XOne    AxesSubplot(0.125,0.125;0.775x0.755)\n",
       "dtype: object"
      ]
     },
     "execution_count": 8,
     "metadata": {},
     "output_type": "execute_result"
    },
    {
     "data": {
      "image/png": "[encoded data removed]",
      "text/plain": [
       "<Figure size 864x576 with 1 Axes>"
      ]
     },
     "metadata": {
      "needs_background": "light"
     },
     "output_type": "display_data"
    },
    {
     "data": {
      "image/png": "[encoded data removed]",
      "text/plain": [
       "<Figure size 864x576 with 1 Axes>"
      ]
     },
     "metadata": {
      "needs_background": "light"
     },
     "output_type": "display_data"
    },
    {
     "data": {
      "image/png": "[encoded data removed]",
      "text/plain": [
       "<Figure size 864x576 with 1 Axes>"
      ]
     },
     "metadata": {
      "needs_background": "light"
     },
     "output_type": "display_data"
    },
    {
     "data": {
      "image/png": "[encoded data removed]",
      "text/plain": [
       "<Figure size 864x576 with 1 Axes>"
      ]
     },
     "metadata": {
      "needs_background": "light"
     },
     "output_type": "display_data"
    },
    {
     "data": {
      "image/png": "[encoded data removed]",
      "text/plain": [
       "<Figure size 864x576 with 1 Axes>"
      ]
     },
     "metadata": {
      "needs_background": "light"
     },
     "output_type": "display_data"
    }
   ],
   "source": [
    "# Определение тенденции продажи у платформ-лидеров \n",
    "platforms_leaders_year = data_new[data_new['platform'].isin([\"PS4\", \"X360\", \"PS3\", \"XOne\", \"3DS\"])]\n",
    "platforms_leaders_year2 = platforms_leaders_year.groupby(['platform','year_of_release']).agg({'all_sales':['sum']}).reset_index()\n",
    "platforms_leaders_year2.columns = ['platform','year','all_sales']\n",
    "\n",
    "platforms_leaders_year2.groupby(['platform']).plot(x='year', y='all_sales', kind= 'bar', figsize=(12,8))"
   ]
  },
  {
   "cell_type": "code",
   "execution_count": 9,
   "metadata": {},
   "outputs": [
    {
     "data": {
      "image/png": "[encoded data removed]",
      "text/plain": [
       "<Figure size 864x576 with 1 Axes>"
      ]
     },
     "metadata": {
      "needs_background": "light"
     },
     "output_type": "display_data"
    },
    {
     "data": {
      "image/png": "[encoded data removed]",
      "text/plain": [
       "<Figure size 864x576 with 1 Axes>"
      ]
     },
     "metadata": {
      "needs_background": "light"
     },
     "output_type": "display_data"
    },
    {
     "data": {
      "image/png": "[encoded data removed]",
      "text/plain": [
       "<Figure size 864x576 with 1 Axes>"
      ]
     },
     "metadata": {
      "needs_background": "light"
     },
     "output_type": "display_data"
    },
    {
     "data": {
      "image/png": "[encoded data removed]",
      "text/plain": [
       "<Figure size 864x576 with 1 Axes>"
      ]
     },
     "metadata": {
      "needs_background": "light"
     },
     "output_type": "display_data"
    },
    {
     "data": {
      "image/png": "[encoded data removed]",
      "text/plain": [
       "<Figure size 864x576 with 1 Axes>"
      ]
     },
     "metadata": {
      "needs_background": "light"
     },
     "output_type": "display_data"
    }
   ],
   "source": [
    "data_new_final = data_new[data_new['platform'].isin([\"PS4\", \"X360\", \"PS3\", \"XOne\", \"3DS\"])]\n",
    "\n",
    "def boxp(plat):\n",
    "    databox = data.query('platform == @plat')\n",
    "    g = databox.boxplot(column= 'all_sales', figsize=(12,8))\n",
    "    g.set_title(plat)\n",
    "    g.set_ylim(0,2)\n",
    "    plt.show()\n",
    "\n",
    "boxp(\"PS4\")\n",
    "boxp(\"X360\")\n",
    "boxp(\"PS3\")\n",
    "boxp(\"XOne\")\n",
    "boxp(\"3DS\")"
   ]
  },
  {
   "cell_type": "code",
   "execution_count": 10,
   "metadata": {},
   "outputs": [
    {
     "data": {
      "image/png": "[encoded data removed]",
      "text/plain": [
       "<Figure size 864x576 with 1 Axes>"
      ]
     },
     "metadata": {
      "needs_background": "light"
     },
     "output_type": "display_data"
    }
   ],
   "source": [
    "# Код ревьюера\n",
    "databox = data.query('platform == \"PS4\"')\n",
    "g = databox.boxplot(column= 'all_sales', figsize=(12,8))\n",
    "g.set_title('PS4')\n",
    "g.set_ylim(0,2)\n",
    "plt.show()"
   ]
  },
  {
   "cell_type": "code",
   "execution_count": 11,
   "metadata": {},
   "outputs": [
    {
     "data": {
      "image/png": "[encoded data removed]",
      "text/plain": [
       "<Figure size 720x432 with 1 Axes>"
      ]
     },
     "metadata": {
      "needs_background": "light"
     },
     "output_type": "display_data"
    },
    {
     "name": "stdout",
     "output_type": "stream",
     "text": [
      "0.406567902061781\n"
     ]
    },
    {
     "data": {
      "image/png": "[encoded data removed]",
      "text/plain": [
       "<Figure size 720x432 with 1 Axes>"
      ]
     },
     "metadata": {
      "needs_background": "light"
     },
     "output_type": "display_data"
    },
    {
     "name": "stdout",
     "output_type": "stream",
     "text": [
      "0.3912533245484554\n"
     ]
    },
    {
     "data": {
      "image/png": "[encoded data removed]",
      "text/plain": [
       "<Figure size 720x432 with 1 Axes>"
      ]
     },
     "metadata": {
      "needs_background": "light"
     },
     "output_type": "display_data"
    },
    {
     "name": "stdout",
     "output_type": "stream",
     "text": [
      "0.38011114718290767\n"
     ]
    },
    {
     "data": {
      "image/png": "[encoded data removed]",
      "text/plain": [
       "<Figure size 720x432 with 1 Axes>"
      ]
     },
     "metadata": {
      "needs_background": "light"
     },
     "output_type": "display_data"
    },
    {
     "name": "stdout",
     "output_type": "stream",
     "text": [
      "0.41699832800840175\n"
     ]
    },
    {
     "data": {
      "image/png": "[encoded data removed]",
      "text/plain": [
       "<Figure size 720x432 with 1 Axes>"
      ]
     },
     "metadata": {
      "needs_background": "light"
     },
     "output_type": "display_data"
    },
    {
     "name": "stdout",
     "output_type": "stream",
     "text": [
      "0.34873973059848346\n"
     ]
    }
   ],
   "source": [
    "def critics_inf(plat):\n",
    "    df = data_new_final.query('platform == @plat')\n",
    "    g = df.plot(y= 'all_sales', x= 'critic_score', kind= 'scatter',figsize=(10,6))\n",
    "    g.set_title(plat)\n",
    "    plt.show()\n",
    "    print(df['all_sales'].corr(df['critic_score']))\n",
    "\n",
    "critics_inf(\"PS4\")\n",
    "critics_inf(\"X360\")\n",
    "critics_inf(\"PS3\")\n",
    "critics_inf(\"XOne\")\n",
    "critics_inf(\"3DS\")"
   ]
  },
  {
   "cell_type": "markdown",
   "metadata": {},
   "source": [
    "Между продажей игр и мнениями критков наблюдается средняя положительная корреляция. Коэффициент корреляции составляет составляет около (0.4) для всех платформ кроме 3DS где он составляет (0.34) "
   ]
  },
  {
   "cell_type": "code",
   "execution_count": 12,
   "metadata": {},
   "outputs": [
    {
     "data": {
      "image/png": "[encoded data removed]",
      "text/plain": [
       "<Figure size 720x432 with 1 Axes>"
      ]
     },
     "metadata": {
      "needs_background": "light"
     },
     "output_type": "display_data"
    },
    {
     "name": "stdout",
     "output_type": "stream",
     "text": [
      "-0.031957110204556424\n"
     ]
    },
    {
     "data": {
      "image/png": "[encoded data removed]",
      "text/plain": [
       "<Figure size 720x432 with 1 Axes>"
      ]
     },
     "metadata": {
      "needs_background": "light"
     },
     "output_type": "display_data"
    },
    {
     "name": "stdout",
     "output_type": "stream",
     "text": [
      "0.0389181707291026\n"
     ]
    },
    {
     "data": {
      "image/png": "[encoded data removed]",
      "text/plain": [
       "<Figure size 720x432 with 1 Axes>"
      ]
     },
     "metadata": {
      "needs_background": "light"
     },
     "output_type": "display_data"
    },
    {
     "name": "stdout",
     "output_type": "stream",
     "text": [
      "0.014089348308019395\n"
     ]
    },
    {
     "data": {
      "image/png": "[encoded data removed]",
      "text/plain": [
       "<Figure size 720x432 with 1 Axes>"
      ]
     },
     "metadata": {
      "needs_background": "light"
     },
     "output_type": "display_data"
    },
    {
     "name": "stdout",
     "output_type": "stream",
     "text": [
      "-0.06892505328279412\n"
     ]
    },
    {
     "data": {
      "image/png": "[encoded data removed]",
      "text/plain": [
       "<Figure size 720x432 with 1 Axes>"
      ]
     },
     "metadata": {
      "needs_background": "light"
     },
     "output_type": "display_data"
    },
    {
     "name": "stdout",
     "output_type": "stream",
     "text": [
      "0.22207843643390884\n"
     ]
    }
   ],
   "source": [
    "def user_inf(plat):\n",
    "    df = data_new_final.query('platform == @plat and user_score != 11')\n",
    "    g = df.plot(y= 'all_sales', x= 'user_score', kind= 'scatter',figsize=(10,6))\n",
    "    g.set_title(plat)\n",
    "    plt.show()\n",
    "    print(df['all_sales'].corr(df['user_score']))\n",
    "\n",
    "user_inf(\"PS4\")\n",
    "user_inf(\"X360\")\n",
    "user_inf(\"PS3\")\n",
    "user_inf(\"XOne\")\n",
    "user_inf(\"3DS\")"
   ]
  },
  {
   "cell_type": "code",
   "execution_count": 13,
   "metadata": {},
   "outputs": [
    {
     "name": "stdout",
     "output_type": "stream",
     "text": [
      "              games_by_genre\n",
      "genre                       \n",
      "Action                  1269\n",
      "Role-Playing             465\n",
      "Adventure                410\n",
      "Sports                   389\n",
      "Misc                     375\n",
      "Shooter                  329\n",
      "Racing                   180\n",
      "Fighting                 159\n",
      "Simulation               136\n",
      "Platform                 122\n",
      "Strategy                 117\n",
      "Puzzle                    71\n"
     ]
    }
   ],
   "source": [
    "genres_data = data_new.groupby('genre').agg({'name':['count']})\n",
    "genres_data.columns = ['games_by_genre']\n",
    "\n",
    "print(genres_data.sort_values(by='games_by_genre', ascending = False))"
   ]
  },
  {
   "cell_type": "code",
   "execution_count": 14,
   "metadata": {
    "scrolled": true
   },
   "outputs": [
    {
     "name": "stdout",
     "output_type": "stream",
     "text": [
      "              sales_by_genre\n",
      "genre                       \n",
      "Action                557.80\n",
      "Shooter               402.91\n",
      "Role-Playing          245.63\n",
      "Sports                237.15\n",
      "Misc                  139.42\n",
      "Platform               88.68\n",
      "Racing                 88.31\n",
      "Fighting               66.90\n",
      "Simulation             50.26\n",
      "Adventure              45.04\n",
      "Strategy               22.16\n",
      "Puzzle                  9.85\n"
     ]
    }
   ],
   "source": [
    "genres_data2 = data_new.groupby('genre').agg({'all_sales':['sum']})\n",
    "genres_data2.columns = ['sales_by_genre']\n",
    "\n",
    "print(genres_data2.sort_values(by='sales_by_genre', ascending = False))"
   ]
  },
  {
   "cell_type": "markdown",
   "metadata": {},
   "source": [
    "- Самые выпускаемые жанры - (Action, Role-Playing, Adventure, Sports, Misc, Shooter).\n",
    "- Самые продавемые жанры - (Action, Shooter, Role-Playing, Sports, Misc).\n",
    "- Можно сделать вывод о том, что самые продаваемые жанры это и самые выпскаемые кроме жанр Adventure. Многие игры жанра Adventure выпускаются, однако мало продаются.  "
   ]
  },
  {
   "cell_type": "markdown",
   "metadata": {},
   "source": [
    "## портрет пользователя каждого региона"
   ]
  },
  {
   "cell_type": "code",
   "execution_count": 15,
   "metadata": {},
   "outputs": [
    {
     "data": {
      "image/png": "[encoded data removed]",
      "text/plain": [
       "<Figure size 1152x720 with 1 Axes>"
      ]
     },
     "metadata": {
      "needs_background": "light"
     },
     "output_type": "display_data"
    },
    {
     "data": {
      "text/html": [
       "<div>\n",
       "<style scoped>\n",
       "    .dataframe tbody tr th:only-of-type {\n",
       "        vertical-align: middle;\n",
       "    }\n",
       "\n",
       "    .dataframe tbody tr th {\n",
       "        vertical-align: top;\n",
       "    }\n",
       "\n",
       "    .dataframe thead tr th {\n",
       "        text-align: left;\n",
       "    }\n",
       "\n",
       "    .dataframe thead tr:last-of-type th {\n",
       "        text-align: right;\n",
       "    }\n",
       "</style>\n",
       "<table border=\"1\" class=\"dataframe\">\n",
       "  <thead>\n",
       "    <tr>\n",
       "      <th></th>\n",
       "      <th colspan=\"3\" halign=\"left\">sum</th>\n",
       "    </tr>\n",
       "    <tr>\n",
       "      <th></th>\n",
       "      <th>eu_sales</th>\n",
       "      <th>jp_sales</th>\n",
       "      <th>na_sales</th>\n",
       "    </tr>\n",
       "    <tr>\n",
       "      <th>platform</th>\n",
       "      <th></th>\n",
       "      <th></th>\n",
       "      <th></th>\n",
       "    </tr>\n",
       "  </thead>\n",
       "  <tbody>\n",
       "    <tr>\n",
       "      <td>3DS</td>\n",
       "      <td>61.27</td>\n",
       "      <td>100.62</td>\n",
       "      <td>82.65</td>\n",
       "    </tr>\n",
       "    <tr>\n",
       "      <td>DS</td>\n",
       "      <td>9.24</td>\n",
       "      <td>8.04</td>\n",
       "      <td>18.86</td>\n",
       "    </tr>\n",
       "    <tr>\n",
       "      <td>PC</td>\n",
       "      <td>56.70</td>\n",
       "      <td>0.00</td>\n",
       "      <td>29.88</td>\n",
       "    </tr>\n",
       "    <tr>\n",
       "      <td>PS2</td>\n",
       "      <td>0.13</td>\n",
       "      <td>0.09</td>\n",
       "      <td>0.13</td>\n",
       "    </tr>\n",
       "    <tr>\n",
       "      <td>PS3</td>\n",
       "      <td>163.10</td>\n",
       "      <td>49.39</td>\n",
       "      <td>168.26</td>\n",
       "    </tr>\n",
       "    <tr>\n",
       "      <td>PS4</td>\n",
       "      <td>141.09</td>\n",
       "      <td>15.96</td>\n",
       "      <td>108.74</td>\n",
       "    </tr>\n",
       "    <tr>\n",
       "      <td>PSP</td>\n",
       "      <td>1.77</td>\n",
       "      <td>24.04</td>\n",
       "      <td>2.19</td>\n",
       "    </tr>\n",
       "    <tr>\n",
       "      <td>PSV</td>\n",
       "      <td>13.07</td>\n",
       "      <td>21.84</td>\n",
       "      <td>12.47</td>\n",
       "    </tr>\n",
       "    <tr>\n",
       "      <td>Wii</td>\n",
       "      <td>29.60</td>\n",
       "      <td>8.97</td>\n",
       "      <td>48.56</td>\n",
       "    </tr>\n",
       "    <tr>\n",
       "      <td>WiiU</td>\n",
       "      <td>25.13</td>\n",
       "      <td>13.01</td>\n",
       "      <td>38.10</td>\n",
       "    </tr>\n",
       "    <tr>\n",
       "      <td>X360</td>\n",
       "      <td>117.10</td>\n",
       "      <td>3.35</td>\n",
       "      <td>226.80</td>\n",
       "    </tr>\n",
       "    <tr>\n",
       "      <td>XOne</td>\n",
       "      <td>51.59</td>\n",
       "      <td>0.34</td>\n",
       "      <td>93.12</td>\n",
       "    </tr>\n",
       "  </tbody>\n",
       "</table>\n",
       "</div>"
      ],
      "text/plain": [
       "              sum                  \n",
       "         eu_sales jp_sales na_sales\n",
       "platform                           \n",
       "3DS         61.27   100.62    82.65\n",
       "DS           9.24     8.04    18.86\n",
       "PC          56.70     0.00    29.88\n",
       "PS2          0.13     0.09     0.13\n",
       "PS3        163.10    49.39   168.26\n",
       "PS4        141.09    15.96   108.74\n",
       "PSP          1.77    24.04     2.19\n",
       "PSV         13.07    21.84    12.47\n",
       "Wii         29.60     8.97    48.56\n",
       "WiiU        25.13    13.01    38.10\n",
       "X360       117.10     3.35   226.80\n",
       "XOne        51.59     0.34    93.12"
      ]
     },
     "execution_count": 15,
     "metadata": {},
     "output_type": "execute_result"
    }
   ],
   "source": [
    "#Определение самых популярных платформ \n",
    "clients_platforms = data_new.pivot_table(index='platform', values=['na_sales','eu_sales','jp_sales'], aggfunc=['sum'])\n",
    "clients_platforms.plot(kind='bar', figsize=(16,10))\n",
    "plt.show()\n",
    "clients_platforms"
   ]
  },
  {
   "cell_type": "markdown",
   "metadata": {},
   "source": [
    "Самые популярные платформые отличаются между в Японии по сравнению  с Северной Америкой и Европой. В Японии самая популярная платформа является 3DS, в Сервной Америк самая популярная платформа является X360. В то время как в Европе господсвуют PS3, PS4. Эти две платформы считаются распространенными и в Америке.  \n",
    "- Самые популярные платформы в Европе (PS3, PS4, X360)\n",
    "- Самые популярные платформы в Японии (3DS, PS3)\n",
    "- Самые популярные платформы в Северной Америке (X360, PS3, PS4, 3DS)"
   ]
  },
  {
   "cell_type": "code",
   "execution_count": 16,
   "metadata": {},
   "outputs": [
    {
     "data": {
      "image/png": "[encoded data removed]",
      "text/plain": [
       "<Figure size 1152x720 with 1 Axes>"
      ]
     },
     "metadata": {
      "needs_background": "light"
     },
     "output_type": "display_data"
    },
    {
     "data": {
      "text/html": [
       "<div>\n",
       "<style scoped>\n",
       "    .dataframe tbody tr th:only-of-type {\n",
       "        vertical-align: middle;\n",
       "    }\n",
       "\n",
       "    .dataframe tbody tr th {\n",
       "        vertical-align: top;\n",
       "    }\n",
       "\n",
       "    .dataframe thead tr th {\n",
       "        text-align: left;\n",
       "    }\n",
       "\n",
       "    .dataframe thead tr:last-of-type th {\n",
       "        text-align: right;\n",
       "    }\n",
       "</style>\n",
       "<table border=\"1\" class=\"dataframe\">\n",
       "  <thead>\n",
       "    <tr>\n",
       "      <th></th>\n",
       "      <th colspan=\"3\" halign=\"left\">sum</th>\n",
       "    </tr>\n",
       "    <tr>\n",
       "      <th></th>\n",
       "      <th>eu_sales</th>\n",
       "      <th>jp_sales</th>\n",
       "      <th>na_sales</th>\n",
       "    </tr>\n",
       "    <tr>\n",
       "      <th>genre</th>\n",
       "      <th></th>\n",
       "      <th></th>\n",
       "      <th></th>\n",
       "    </tr>\n",
       "  </thead>\n",
       "  <tbody>\n",
       "    <tr>\n",
       "      <td>Action</td>\n",
       "      <td>199.12</td>\n",
       "      <td>63.62</td>\n",
       "      <td>230.92</td>\n",
       "    </tr>\n",
       "    <tr>\n",
       "      <td>Adventure</td>\n",
       "      <td>13.96</td>\n",
       "      <td>12.07</td>\n",
       "      <td>14.76</td>\n",
       "    </tr>\n",
       "    <tr>\n",
       "      <td>Fighting</td>\n",
       "      <td>16.24</td>\n",
       "      <td>12.38</td>\n",
       "      <td>31.63</td>\n",
       "    </tr>\n",
       "    <tr>\n",
       "      <td>Misc</td>\n",
       "      <td>39.72</td>\n",
       "      <td>17.60</td>\n",
       "      <td>69.69</td>\n",
       "    </tr>\n",
       "    <tr>\n",
       "      <td>Platform</td>\n",
       "      <td>30.07</td>\n",
       "      <td>12.13</td>\n",
       "      <td>38.28</td>\n",
       "    </tr>\n",
       "    <tr>\n",
       "      <td>Puzzle</td>\n",
       "      <td>3.56</td>\n",
       "      <td>2.91</td>\n",
       "      <td>2.74</td>\n",
       "    </tr>\n",
       "    <tr>\n",
       "      <td>Racing</td>\n",
       "      <td>40.58</td>\n",
       "      <td>5.64</td>\n",
       "      <td>31.98</td>\n",
       "    </tr>\n",
       "    <tr>\n",
       "      <td>Role-Playing</td>\n",
       "      <td>62.30</td>\n",
       "      <td>79.87</td>\n",
       "      <td>83.78</td>\n",
       "    </tr>\n",
       "    <tr>\n",
       "      <td>Shooter</td>\n",
       "      <td>148.02</td>\n",
       "      <td>11.92</td>\n",
       "      <td>194.43</td>\n",
       "    </tr>\n",
       "    <tr>\n",
       "      <td>Simulation</td>\n",
       "      <td>19.72</td>\n",
       "      <td>11.64</td>\n",
       "      <td>15.37</td>\n",
       "    </tr>\n",
       "    <tr>\n",
       "      <td>Sports</td>\n",
       "      <td>88.48</td>\n",
       "      <td>11.09</td>\n",
       "      <td>108.70</td>\n",
       "    </tr>\n",
       "    <tr>\n",
       "      <td>Strategy</td>\n",
       "      <td>8.02</td>\n",
       "      <td>4.78</td>\n",
       "      <td>7.48</td>\n",
       "    </tr>\n",
       "  </tbody>\n",
       "</table>\n",
       "</div>"
      ],
      "text/plain": [
       "                  sum                  \n",
       "             eu_sales jp_sales na_sales\n",
       "genre                                  \n",
       "Action         199.12    63.62   230.92\n",
       "Adventure       13.96    12.07    14.76\n",
       "Fighting        16.24    12.38    31.63\n",
       "Misc            39.72    17.60    69.69\n",
       "Platform        30.07    12.13    38.28\n",
       "Puzzle           3.56     2.91     2.74\n",
       "Racing          40.58     5.64    31.98\n",
       "Role-Playing    62.30    79.87    83.78\n",
       "Shooter        148.02    11.92   194.43\n",
       "Simulation      19.72    11.64    15.37\n",
       "Sports          88.48    11.09   108.70\n",
       "Strategy         8.02     4.78     7.48"
      ]
     },
     "execution_count": 16,
     "metadata": {},
     "output_type": "execute_result"
    }
   ],
   "source": [
    "#Определение самых популярных жанров \n",
    "clients_genres = data_new.pivot_table(index='genre', values=['na_sales','eu_sales','jp_sales'], aggfunc=['sum'])\n",
    "clients_genres.plot(kind='bar', figsize=(16,10))\n",
    "plt.show()\n",
    "clients_genres"
   ]
  },
  {
   "cell_type": "markdown",
   "metadata": {},
   "source": [
    "Японцы предпочитают игры жанра Role-Playing в первую очередь. Также они сходятся с европейцыми и американцами по жанру Action. Кроме того, европейцы и американцы играют много в игры жанра Shooter и Sports, которые не популярные в Японии. "
   ]
  },
  {
   "cell_type": "code",
   "execution_count": 17,
   "metadata": {},
   "outputs": [
    {
     "name": "stderr",
     "output_type": "stream",
     "text": [
      "/opt/conda/lib/python3.7/site-packages/pandas/core/indexing.py:494: SettingWithCopyWarning: \n",
      "A value is trying to be set on a copy of a slice from a DataFrame.\n",
      "Try using .loc[row_indexer,col_indexer] = value instead\n",
      "\n",
      "See the caveats in the documentation: http://pandas.pydata.org/pandas-docs/stable/user_guide/indexing.html#returning-a-view-versus-a-copy\n",
      "  self.obj[item] = s\n"
     ]
    },
    {
     "data": {
      "image/png": "[encoded data removed]",
      "text/plain": [
       "<Figure size 1152x720 with 1 Axes>"
      ]
     },
     "metadata": {
      "needs_background": "light"
     },
     "output_type": "display_data"
    },
    {
     "data": {
      "text/html": [
       "<div>\n",
       "<style scoped>\n",
       "    .dataframe tbody tr th:only-of-type {\n",
       "        vertical-align: middle;\n",
       "    }\n",
       "\n",
       "    .dataframe tbody tr th {\n",
       "        vertical-align: top;\n",
       "    }\n",
       "\n",
       "    .dataframe thead tr th {\n",
       "        text-align: left;\n",
       "    }\n",
       "\n",
       "    .dataframe thead tr:last-of-type th {\n",
       "        text-align: right;\n",
       "    }\n",
       "</style>\n",
       "<table border=\"1\" class=\"dataframe\">\n",
       "  <thead>\n",
       "    <tr>\n",
       "      <th></th>\n",
       "      <th colspan=\"3\" halign=\"left\">sum</th>\n",
       "    </tr>\n",
       "    <tr>\n",
       "      <th></th>\n",
       "      <th>eu_sales</th>\n",
       "      <th>jp_sales</th>\n",
       "      <th>na_sales</th>\n",
       "    </tr>\n",
       "    <tr>\n",
       "      <th>rating</th>\n",
       "      <th></th>\n",
       "      <th></th>\n",
       "      <th></th>\n",
       "    </tr>\n",
       "  </thead>\n",
       "  <tbody>\n",
       "    <tr>\n",
       "      <td>E</td>\n",
       "      <td>141.73</td>\n",
       "      <td>36.68</td>\n",
       "      <td>170.17</td>\n",
       "    </tr>\n",
       "    <tr>\n",
       "      <td>E10+</td>\n",
       "      <td>78.00</td>\n",
       "      <td>11.23</td>\n",
       "      <td>117.72</td>\n",
       "    </tr>\n",
       "    <tr>\n",
       "      <td>EC</td>\n",
       "      <td>0.00</td>\n",
       "      <td>0.00</td>\n",
       "      <td>0.42</td>\n",
       "    </tr>\n",
       "    <tr>\n",
       "      <td>M</td>\n",
       "      <td>250.26</td>\n",
       "      <td>26.14</td>\n",
       "      <td>308.45</td>\n",
       "    </tr>\n",
       "    <tr>\n",
       "      <td>Non-available</td>\n",
       "      <td>116.61</td>\n",
       "      <td>138.21</td>\n",
       "      <td>123.69</td>\n",
       "    </tr>\n",
       "    <tr>\n",
       "      <td>RP</td>\n",
       "      <td>0.03</td>\n",
       "      <td>0.00</td>\n",
       "      <td>0.00</td>\n",
       "    </tr>\n",
       "    <tr>\n",
       "      <td>T</td>\n",
       "      <td>83.16</td>\n",
       "      <td>33.39</td>\n",
       "      <td>109.31</td>\n",
       "    </tr>\n",
       "  </tbody>\n",
       "</table>\n",
       "</div>"
      ],
      "text/plain": [
       "                   sum                  \n",
       "              eu_sales jp_sales na_sales\n",
       "rating                                  \n",
       "E               141.73    36.68   170.17\n",
       "E10+             78.00    11.23   117.72\n",
       "EC                0.00     0.00     0.42\n",
       "M               250.26    26.14   308.45\n",
       "Non-available   116.61   138.21   123.69\n",
       "RP                0.03     0.00     0.00\n",
       "T                83.16    33.39   109.31"
      ]
     },
     "execution_count": 17,
     "metadata": {},
     "output_type": "execute_result"
    }
   ],
   "source": [
    "#Определение самых популярных жанров \n",
    "data_new.loc[data_new['rating'].isna(), 'rating'] = 'Non-available'\n",
    "clients_rating = data_new.pivot_table(index='rating', values=['na_sales','eu_sales','jp_sales'], aggfunc=['sum'])\n",
    "clients_rating.plot(kind='bar', figsize=(16,10))\n",
    "plt.show()\n",
    "clients_rating"
   ]
  },
  {
   "cell_type": "markdown",
   "metadata": {},
   "source": [
    "В Европе и Северной Америке популярные игры для взрослых (+17) в первую очередь в то время как в Японии самые популярные игры это игры для всех (+6) и игры для подростков (+13). Последние два занимают второе и третье места в Европе и Америке, соответственно."
   ]
  },
  {
   "cell_type": "markdown",
   "metadata": {},
   "source": [
    "## Проверка гипотез"
   ]
  },
  {
   "cell_type": "code",
   "execution_count": 18,
   "metadata": {
    "scrolled": false
   },
   "outputs": [
    {
     "name": "stdout",
     "output_type": "stream",
     "text": [
      "Средний пользовательский рейтинг платформы PC:7.07\n",
      "Средний пользовательский рейтинг платформы Xbox One:6.52\n",
      "p-значение первой гипотезы:  9.379956219356061e-06\n"
     ]
    }
   ],
   "source": [
    "# проверка первой гипотезы \n",
    "df1 = data.query('platform == \"PC\"')\n",
    "df2 = data.query('platform == \"XOne\"')\n",
    "data_pc = df1[(~(df1['user_score'].isna())) & (df1['user_score'] != 11)]['user_score']\n",
    "data_x1 = df2[(~(df2['user_score'].isna())) & (df2['user_score'] != 11)]['user_score']\n",
    "\n",
    "print('Средний пользовательский рейтинг платформы PC:{:.2f}'.format(data_pc.mean()))\n",
    "print('Средний пользовательский рейтинг платформы Xbox One:{:.2f}'.format(data_x1.mean()))\n",
    "\n",
    "results1 = st.ttest_ind(data_pc, data_x1)\n",
    "\n",
    "print('p-значение первой гипотезы: ', results1.pvalue)"
   ]
  },
  {
   "cell_type": "code",
   "execution_count": 19,
   "metadata": {},
   "outputs": [
    {
     "data": {
      "text/plain": [
       "False    752\n",
       "Name: user_score, dtype: int64"
      ]
     },
     "execution_count": 19,
     "metadata": {},
     "output_type": "execute_result"
    }
   ],
   "source": [
    "(data_pc>10).value_counts()"
   ]
  },
  {
   "cell_type": "markdown",
   "metadata": {},
   "source": [
    "- Нулевая гипотеза: \"Средние пользовательские рейтинги платформ Xbox One и PC не отличаются\" \n",
    "- Альтернативная гипотеза: \"Средние пользовательские рейтинги платформ Xbox One и PC значимо отличаются\". \n",
    "- На основе результатов теста можно опровергнуть нулевую гипотезу. Отличия средних пользовательских рейтингов значимы. "
   ]
  },
  {
   "cell_type": "code",
   "execution_count": 20,
   "metadata": {
    "scrolled": false
   },
   "outputs": [
    {
     "name": "stdout",
     "output_type": "stream",
     "text": [
      "Средний пользовательский рейтинг жанра Action:7.06\n",
      "Средний пользовательский рейтинг жанра Sports:6.95\n",
      "p-значение второй гипотезы:  0.06480928064420527\n"
     ]
    }
   ],
   "source": [
    "# проверка второй гипотезы \n",
    "df1 = data.query('genre == \"Action\"')\n",
    "df2 = data.query('genre == \"Sports\"')\n",
    "data_action = df1[(~(df1['user_score'].isna())) & (df1['user_score'] != 11)]['user_score']\n",
    "data_sports = df2[(~(df2['user_score'].isna())) & (df2['user_score'] != 11)]['user_score']\n",
    "\n",
    "print('Средний пользовательский рейтинг жанра Action:{:.2f}'.format(data_action.mean()))\n",
    "print('Средний пользовательский рейтинг жанра Sports:{:.2f}'.format(data_sports.mean()))\n",
    "\n",
    "results2 = st.ttest_ind(data_action, data_sports)\n",
    "\n",
    "print('p-значение второй гипотезы: ', results2.pvalue)"
   ]
  },
  {
   "cell_type": "markdown",
   "metadata": {},
   "source": [
    "- Нулевая гипотеза: \"Средние пользовательские рейтинги жанров Action и Sports не отличаются\" \n",
    "- Альтернативная гипотеза: \"Средние пользовательские рейтинги жанров Action и Sports значимо отличаются\". \n",
    "- На основе результатов теста можно опровергнуть нулевую гипотезу. Отличия средних пользовательских рейтингов значимы. "
   ]
  },
  {
   "cell_type": "markdown",
   "metadata": {},
   "source": [
    "## Общий вывод"
   ]
  },
  {
   "cell_type": "markdown",
   "metadata": {},
   "source": [
    "В рамках данного проекта были анализированы основные факторы, которые влияют на продажи игр. Для прогнозирования факторов успешности игр в 2017 году используются данные о продажах игр с 2010 года по 2016 год. \n",
    "- Жизненный цикл игровой платформы длится от 6 до 8 лет. Самые популярные платформы в это время являются (\"PS4\", \"X360\", \"PS3\", \"XOne\", \"3DS\"). Следовательно, ожидается что игры, выпускаемые данными платформами будут более успешными. \n",
    "- Большинство игр, выпускаемых данными платформами продавались за период (2010-2016) в количестве до 1 млн. копий. Некоторые игры достгли большого успеха и продовались в бОльших количествах (до 20 млн. копий в некоторых платформах). \n",
    "- Мнения критикоы умеренно влияет на продажи той или иной игры. В средним корреляция между мнениями критиков и продажами игр для этих 5 платформ положительная и ее коэффициент состовляет 0.4. \n",
    "- Самые выпускаемы жанры являются самыми продаваемыми. За период анализа таких жанров пять (Action, Shooter, Role-Playing, Sports, Misc).\n",
    "- Пользователи в Японии отличаются от пользователей в Европе и Северной Америке. Японцы больше играют на 3DS. В то время как в Европе и Америке (PS3, PS4, X360) более популярные. Последняя платформа считается самой популярной в Северной Америке. Японцы предпочитают Role-Playing игры. В то время как европейцы и американцы предпочитают Action, Shooter и Sports. Скорее всего это связано со средним возростом пользователей в данных регионах. "
   ]
  }
 ],
 "metadata": {
  "ExecuteTimeLog": [
   {
    "duration": 1004,
    "start_time": "2021-11-01T09:04:35.818Z"
   },
   {
    "duration": 126,
    "start_time": "2021-11-01T09:04:53.012Z"
   },
   {
    "duration": 59,
    "start_time": "2021-11-01T09:11:19.547Z"
   },
   {
    "duration": 4,
    "start_time": "2021-11-01T09:17:51.942Z"
   },
   {
    "duration": 19,
    "start_time": "2021-11-01T09:18:01.585Z"
   },
   {
    "duration": 4,
    "start_time": "2021-11-01T09:18:12.381Z"
   },
   {
    "duration": 267,
    "start_time": "2021-11-01T09:20:31.689Z"
   },
   {
    "duration": 9,
    "start_time": "2021-11-01T09:21:24.501Z"
   },
   {
    "duration": 11,
    "start_time": "2021-11-01T09:21:30.986Z"
   },
   {
    "duration": 2545,
    "start_time": "2021-11-01T09:24:59.564Z"
   },
   {
    "duration": 7,
    "start_time": "2021-11-01T09:26:38.630Z"
   },
   {
    "duration": 9,
    "start_time": "2021-11-01T09:26:59.750Z"
   },
   {
    "duration": 54,
    "start_time": "2021-11-01T09:32:05.080Z"
   },
   {
    "duration": 67,
    "start_time": "2021-11-01T09:32:17.141Z"
   },
   {
    "duration": 58,
    "start_time": "2021-11-01T09:32:39.613Z"
   },
   {
    "duration": 7088,
    "start_time": "2021-11-01T09:33:28.230Z"
   },
   {
    "duration": 7275,
    "start_time": "2021-11-01T09:33:36.621Z"
   },
   {
    "duration": 19,
    "start_time": "2021-11-01T09:33:48.331Z"
   },
   {
    "duration": 21,
    "start_time": "2021-11-01T09:34:21.734Z"
   },
   {
    "duration": 42,
    "start_time": "2021-11-01T09:36:05.969Z"
   },
   {
    "duration": 311,
    "start_time": "2021-11-01T09:48:08.095Z"
   },
   {
    "duration": 9,
    "start_time": "2021-11-01T09:48:17.447Z"
   },
   {
    "duration": 9,
    "start_time": "2021-11-01T09:48:32.975Z"
   },
   {
    "duration": 9,
    "start_time": "2021-11-01T09:48:38.049Z"
   },
   {
    "duration": 13,
    "start_time": "2021-11-01T09:48:44.977Z"
   },
   {
    "duration": 11,
    "start_time": "2021-11-01T09:48:56.528Z"
   },
   {
    "duration": 12,
    "start_time": "2021-11-01T09:49:26.416Z"
   },
   {
    "duration": 13,
    "start_time": "2021-11-01T09:49:52.711Z"
   },
   {
    "duration": 11,
    "start_time": "2021-11-01T09:50:27.667Z"
   },
   {
    "duration": 10,
    "start_time": "2021-11-01T09:50:49.968Z"
   },
   {
    "duration": 4,
    "start_time": "2021-11-01T09:50:55.376Z"
   },
   {
    "duration": 13,
    "start_time": "2021-11-01T09:50:59.937Z"
   },
   {
    "duration": 7,
    "start_time": "2021-11-01T10:36:51.579Z"
   },
   {
    "duration": 8,
    "start_time": "2021-11-01T10:37:06.661Z"
   },
   {
    "duration": 7,
    "start_time": "2021-11-01T10:39:02.992Z"
   },
   {
    "duration": 11,
    "start_time": "2021-11-01T11:03:16.975Z"
   },
   {
    "duration": 16,
    "start_time": "2021-11-01T11:03:45.627Z"
   },
   {
    "duration": 18,
    "start_time": "2021-11-01T11:03:50.426Z"
   },
   {
    "duration": 11,
    "start_time": "2021-11-01T11:04:59.868Z"
   },
   {
    "duration": 18,
    "start_time": "2021-11-01T11:06:34.718Z"
   },
   {
    "duration": 14,
    "start_time": "2021-11-01T11:07:24.638Z"
   },
   {
    "duration": 17,
    "start_time": "2021-11-01T11:07:28.990Z"
   },
   {
    "duration": 7243,
    "start_time": "2021-11-01T11:08:00.342Z"
   },
   {
    "duration": -64,
    "start_time": "2021-11-01T11:08:07.650Z"
   },
   {
    "duration": 43,
    "start_time": "2021-11-01T11:08:13.237Z"
   },
   {
    "duration": 20,
    "start_time": "2021-11-01T11:08:17.638Z"
   },
   {
    "duration": 17,
    "start_time": "2021-11-01T11:08:48.605Z"
   },
   {
    "duration": 269,
    "start_time": "2021-11-01T11:09:16.262Z"
   },
   {
    "duration": 13,
    "start_time": "2021-11-01T11:09:44.719Z"
   },
   {
    "duration": 19,
    "start_time": "2021-11-01T11:09:54.735Z"
   },
   {
    "duration": 23,
    "start_time": "2021-11-01T11:10:12.154Z"
   },
   {
    "duration": 14,
    "start_time": "2021-11-01T11:10:49.944Z"
   },
   {
    "duration": 19,
    "start_time": "2021-11-01T11:10:59.863Z"
   },
   {
    "duration": 86,
    "start_time": "2021-11-01T11:11:29.863Z"
   },
   {
    "duration": 95,
    "start_time": "2021-11-01T11:11:38.097Z"
   },
   {
    "duration": 95,
    "start_time": "2021-11-01T11:11:54.018Z"
   },
   {
    "duration": 86,
    "start_time": "2021-11-01T11:12:05.658Z"
   },
   {
    "duration": 95,
    "start_time": "2021-11-01T11:12:09.200Z"
   },
   {
    "duration": 103,
    "start_time": "2021-11-01T11:12:13.328Z"
   },
   {
    "duration": 43,
    "start_time": "2021-11-01T11:12:17.376Z"
   },
   {
    "duration": 214,
    "start_time": "2021-11-01T11:12:21.129Z"
   },
   {
    "duration": 94,
    "start_time": "2021-11-01T11:12:28.721Z"
   },
   {
    "duration": 93,
    "start_time": "2021-11-01T11:12:32.120Z"
   },
   {
    "duration": 70,
    "start_time": "2021-11-01T11:13:07.977Z"
   },
   {
    "duration": 2921,
    "start_time": "2021-11-01T11:13:18.464Z"
   },
   {
    "duration": 2575,
    "start_time": "2021-11-01T11:13:34.907Z"
   },
   {
    "duration": 2625,
    "start_time": "2021-11-01T11:13:41.363Z"
   },
   {
    "duration": 47,
    "start_time": "2021-11-01T11:14:04.130Z"
   },
   {
    "duration": 66,
    "start_time": "2021-11-01T11:15:39.067Z"
   },
   {
    "duration": 1783,
    "start_time": "2021-11-01T11:15:52.892Z"
   },
   {
    "duration": 1850,
    "start_time": "2021-11-01T11:16:18.288Z"
   },
   {
    "duration": 2327,
    "start_time": "2021-11-01T11:16:46.868Z"
   },
   {
    "duration": 12,
    "start_time": "2021-11-01T11:17:04.749Z"
   },
   {
    "duration": 54,
    "start_time": "2021-11-01T11:17:19.501Z"
   },
   {
    "duration": 11,
    "start_time": "2021-11-01T11:17:24.020Z"
   },
   {
    "duration": 13,
    "start_time": "2021-11-01T11:17:29.292Z"
   },
   {
    "duration": 12,
    "start_time": "2021-11-01T11:17:36.958Z"
   },
   {
    "duration": 16,
    "start_time": "2021-11-01T11:17:44.547Z"
   },
   {
    "duration": 9,
    "start_time": "2021-11-01T11:18:36.485Z"
   },
   {
    "duration": 18,
    "start_time": "2021-11-01T11:18:43.757Z"
   },
   {
    "duration": 19,
    "start_time": "2021-11-01T11:18:51.269Z"
   },
   {
    "duration": 18,
    "start_time": "2021-11-01T11:18:56.245Z"
   },
   {
    "duration": 262,
    "start_time": "2021-11-01T11:19:23.358Z"
   },
   {
    "duration": 6,
    "start_time": "2021-11-01T11:19:34.519Z"
   },
   {
    "duration": 65,
    "start_time": "2021-11-01T11:19:40.700Z"
   },
   {
    "duration": 2001,
    "start_time": "2021-11-01T11:20:34.112Z"
   },
   {
    "duration": 2486,
    "start_time": "2021-11-01T11:21:13.440Z"
   },
   {
    "duration": 13,
    "start_time": "2021-11-01T11:21:35.641Z"
   },
   {
    "duration": 23,
    "start_time": "2021-11-01T11:21:44.144Z"
   },
   {
    "duration": 21,
    "start_time": "2021-11-01T11:27:07.563Z"
   },
   {
    "duration": 42,
    "start_time": "2021-11-01T11:28:09.588Z"
   },
   {
    "duration": 265,
    "start_time": "2021-11-01T11:31:41.622Z"
   },
   {
    "duration": 257,
    "start_time": "2021-11-01T11:31:52.479Z"
   },
   {
    "duration": 46,
    "start_time": "2021-11-01T11:31:56.480Z"
   },
   {
    "duration": 27,
    "start_time": "2021-11-01T11:31:59.273Z"
   },
   {
    "duration": 11,
    "start_time": "2021-11-01T11:32:02.295Z"
   },
   {
    "duration": 10,
    "start_time": "2021-11-01T11:44:40.651Z"
   },
   {
    "duration": 10,
    "start_time": "2021-11-01T11:47:47.211Z"
   },
   {
    "duration": 275,
    "start_time": "2021-11-01T11:48:16.316Z"
   },
   {
    "duration": 266,
    "start_time": "2021-11-01T11:48:38.475Z"
   },
   {
    "duration": 10,
    "start_time": "2021-11-01T11:48:59.462Z"
   },
   {
    "duration": 279,
    "start_time": "2021-11-01T11:49:08.196Z"
   },
   {
    "duration": 109,
    "start_time": "2021-11-01T11:49:41.038Z"
   },
   {
    "duration": 10,
    "start_time": "2021-11-01T11:50:16.215Z"
   },
   {
    "duration": 1027,
    "start_time": "2021-11-01T11:50:39.791Z"
   },
   {
    "duration": 1080,
    "start_time": "2021-11-01T11:51:08.006Z"
   },
   {
    "duration": 8,
    "start_time": "2021-11-01T11:52:51.455Z"
   },
   {
    "duration": 12,
    "start_time": "2021-11-01T11:53:25.239Z"
   },
   {
    "duration": 84,
    "start_time": "2021-11-01T12:33:02.865Z"
   },
   {
    "duration": 93,
    "start_time": "2021-11-01T12:33:15.599Z"
   },
   {
    "duration": 87,
    "start_time": "2021-11-01T12:34:25.905Z"
   },
   {
    "duration": 40,
    "start_time": "2021-11-01T12:34:37.744Z"
   },
   {
    "duration": 11,
    "start_time": "2021-11-01T12:35:06.810Z"
   },
   {
    "duration": 280,
    "start_time": "2021-11-01T12:35:55.769Z"
   },
   {
    "duration": 22,
    "start_time": "2021-11-01T12:36:02.779Z"
   },
   {
    "duration": 14,
    "start_time": "2021-11-01T12:37:45.716Z"
   },
   {
    "duration": 1017,
    "start_time": "2021-11-01T12:37:55.636Z"
   },
   {
    "duration": 16,
    "start_time": "2021-11-01T12:38:15.556Z"
   },
   {
    "duration": 273,
    "start_time": "2021-11-01T12:42:08.797Z"
   },
   {
    "duration": 43,
    "start_time": "2021-11-01T12:42:19.014Z"
   },
   {
    "duration": 27,
    "start_time": "2021-11-01T12:42:21.829Z"
   },
   {
    "duration": 395,
    "start_time": "2021-11-01T12:42:25.661Z"
   },
   {
    "duration": 7934,
    "start_time": "2021-11-01T12:42:43.103Z"
   },
   {
    "duration": 18,
    "start_time": "2021-11-01T12:43:47.688Z"
   },
   {
    "duration": 10,
    "start_time": "2021-11-01T12:44:05.917Z"
   },
   {
    "duration": 17,
    "start_time": "2021-11-01T12:44:08.831Z"
   },
   {
    "duration": 1062,
    "start_time": "2021-11-01T12:46:26.413Z"
   },
   {
    "duration": 12,
    "start_time": "2021-11-01T12:46:31.338Z"
   },
   {
    "duration": 6,
    "start_time": "2021-11-01T13:50:12.513Z"
   },
   {
    "duration": 8,
    "start_time": "2021-11-01T13:50:38.418Z"
   },
   {
    "duration": 9,
    "start_time": "2021-11-01T13:50:54.835Z"
   },
   {
    "duration": 618,
    "start_time": "2021-11-01T16:39:10.449Z"
   },
   {
    "duration": 21,
    "start_time": "2021-11-01T16:39:43.123Z"
   },
   {
    "duration": 14,
    "start_time": "2021-11-01T16:40:12.007Z"
   },
   {
    "duration": 15,
    "start_time": "2021-11-01T16:40:42.602Z"
   },
   {
    "duration": 20,
    "start_time": "2021-11-01T16:40:48.288Z"
   },
   {
    "duration": 18,
    "start_time": "2021-11-01T16:41:15.964Z"
   },
   {
    "duration": 11,
    "start_time": "2021-11-01T16:41:32.622Z"
   },
   {
    "duration": 243,
    "start_time": "2021-11-01T16:42:06.806Z"
   },
   {
    "duration": 12,
    "start_time": "2021-11-01T16:42:16.666Z"
   },
   {
    "duration": 16,
    "start_time": "2021-11-01T16:42:22.671Z"
   },
   {
    "duration": 177,
    "start_time": "2021-11-01T16:46:02.083Z"
   },
   {
    "duration": 177,
    "start_time": "2021-11-01T16:46:24.580Z"
   },
   {
    "duration": 210,
    "start_time": "2021-11-01T16:46:40.527Z"
   },
   {
    "duration": 179,
    "start_time": "2021-11-01T16:46:55.704Z"
   },
   {
    "duration": 175,
    "start_time": "2021-11-01T16:47:50.037Z"
   },
   {
    "duration": 195,
    "start_time": "2021-11-01T16:48:39.973Z"
   },
   {
    "duration": 212,
    "start_time": "2021-11-01T16:48:59.937Z"
   },
   {
    "duration": 6367,
    "start_time": "2021-11-01T16:49:09.377Z"
   },
   {
    "duration": 4168,
    "start_time": "2021-11-01T16:49:39.477Z"
   },
   {
    "duration": 4415,
    "start_time": "2021-11-01T16:50:07.376Z"
   },
   {
    "duration": 4258,
    "start_time": "2021-11-01T16:50:31.963Z"
   },
   {
    "duration": 196,
    "start_time": "2021-11-01T16:50:44.279Z"
   },
   {
    "duration": 1202,
    "start_time": "2021-11-01T16:52:32.710Z"
   },
   {
    "duration": 205,
    "start_time": "2021-11-01T16:52:51.371Z"
   },
   {
    "duration": 185,
    "start_time": "2021-11-01T16:52:59.764Z"
   },
   {
    "duration": 172,
    "start_time": "2021-11-01T16:53:04.761Z"
   },
   {
    "duration": 5,
    "start_time": "2021-11-01T16:53:11.334Z"
   },
   {
    "duration": 51,
    "start_time": "2021-11-01T16:53:20.109Z"
   },
   {
    "duration": 8,
    "start_time": "2021-11-01T16:53:23.849Z"
   },
   {
    "duration": 9,
    "start_time": "2021-11-01T16:53:40.421Z"
   },
   {
    "duration": 15,
    "start_time": "2021-11-01T16:53:49.735Z"
   },
   {
    "duration": 15,
    "start_time": "2021-11-01T16:54:00.910Z"
   },
   {
    "duration": 14,
    "start_time": "2021-11-01T16:54:05.206Z"
   },
   {
    "duration": 6,
    "start_time": "2021-11-01T16:54:37.083Z"
   },
   {
    "duration": 6,
    "start_time": "2021-11-01T16:54:46.388Z"
   },
   {
    "duration": 4,
    "start_time": "2021-11-01T16:55:07.769Z"
   },
   {
    "duration": 8,
    "start_time": "2021-11-01T16:55:37.437Z"
   },
   {
    "duration": 7,
    "start_time": "2021-11-01T16:56:01.008Z"
   },
   {
    "duration": 10,
    "start_time": "2021-11-01T16:56:09.199Z"
   },
   {
    "duration": 8,
    "start_time": "2021-11-01T16:56:12.996Z"
   },
   {
    "duration": 12,
    "start_time": "2021-11-01T16:56:15.604Z"
   },
   {
    "duration": 10,
    "start_time": "2021-11-01T16:56:46.397Z"
   },
   {
    "duration": 685,
    "start_time": "2021-11-01T16:56:52.049Z"
   },
   {
    "duration": 12,
    "start_time": "2021-11-01T16:57:13.771Z"
   },
   {
    "duration": 7,
    "start_time": "2021-11-01T16:58:32.353Z"
   },
   {
    "duration": 7,
    "start_time": "2021-11-01T16:59:20.713Z"
   },
   {
    "duration": 187,
    "start_time": "2021-11-01T17:04:00.678Z"
   },
   {
    "duration": 22,
    "start_time": "2021-11-01T17:04:27.216Z"
   },
   {
    "duration": 19,
    "start_time": "2021-11-01T17:04:39.264Z"
   },
   {
    "duration": 5054,
    "start_time": "2021-11-01T17:06:18.407Z"
   },
   {
    "duration": 175,
    "start_time": "2021-11-01T17:07:06.435Z"
   },
   {
    "duration": 183,
    "start_time": "2021-11-01T17:07:24.089Z"
   },
   {
    "duration": 4227,
    "start_time": "2021-11-01T17:07:32.236Z"
   },
   {
    "duration": 5553,
    "start_time": "2021-11-01T17:07:47.976Z"
   },
   {
    "duration": 185,
    "start_time": "2021-11-01T17:08:17.169Z"
   },
   {
    "duration": 269,
    "start_time": "2021-11-01T17:08:29.679Z"
   },
   {
    "duration": 187,
    "start_time": "2021-11-01T17:09:09.753Z"
   },
   {
    "duration": 187,
    "start_time": "2021-11-01T17:09:20.463Z"
   },
   {
    "duration": 268,
    "start_time": "2021-11-01T17:09:35.626Z"
   },
   {
    "duration": 85,
    "start_time": "2021-11-01T17:11:55.066Z"
   },
   {
    "duration": 77,
    "start_time": "2021-11-01T17:12:06.076Z"
   },
   {
    "duration": 262,
    "start_time": "2021-11-01T17:17:45.608Z"
   },
   {
    "duration": 267,
    "start_time": "2021-11-01T17:17:57.138Z"
   },
   {
    "duration": 337,
    "start_time": "2021-11-01T17:18:27.321Z"
   },
   {
    "duration": 393,
    "start_time": "2021-11-01T17:18:57.849Z"
   },
   {
    "duration": 2788,
    "start_time": "2021-11-01T17:19:23.958Z"
   },
   {
    "duration": 193,
    "start_time": "2021-11-01T17:19:40.054Z"
   },
   {
    "duration": 7186,
    "start_time": "2021-11-01T17:19:57.852Z"
   },
   {
    "duration": 175,
    "start_time": "2021-11-01T17:20:43.826Z"
   },
   {
    "duration": 172,
    "start_time": "2021-11-01T17:20:59.313Z"
   },
   {
    "duration": 5,
    "start_time": "2021-11-01T17:22:07.614Z"
   },
   {
    "duration": 4,
    "start_time": "2021-11-01T17:23:21.867Z"
   },
   {
    "duration": 702,
    "start_time": "2021-11-01T17:24:57.284Z"
   },
   {
    "duration": 14,
    "start_time": "2021-11-01T17:25:06.231Z"
   },
   {
    "duration": 707,
    "start_time": "2021-11-01T17:25:57.865Z"
   },
   {
    "duration": 11,
    "start_time": "2021-11-01T17:26:03.244Z"
   },
   {
    "duration": 57,
    "start_time": "2021-11-01T17:30:54.339Z"
   },
   {
    "duration": 54,
    "start_time": "2021-11-01T17:31:07.972Z"
   },
   {
    "duration": 4383,
    "start_time": "2021-11-01T17:31:28.735Z"
   },
   {
    "duration": 174,
    "start_time": "2021-11-01T17:32:10.931Z"
   },
   {
    "duration": 59,
    "start_time": "2021-11-01T17:32:24.001Z"
   },
   {
    "duration": 12,
    "start_time": "2021-11-01T17:33:12.165Z"
   },
   {
    "duration": 21,
    "start_time": "2021-11-01T17:33:23.804Z"
   },
   {
    "duration": 1247,
    "start_time": "2021-11-01T17:33:58.291Z"
   },
   {
    "duration": 821,
    "start_time": "2021-11-01T17:34:17.715Z"
   },
   {
    "duration": 12,
    "start_time": "2021-11-01T17:35:06.676Z"
   },
   {
    "duration": 775,
    "start_time": "2021-11-01T17:35:13.755Z"
   },
   {
    "duration": 179,
    "start_time": "2021-11-01T17:35:54.689Z"
   },
   {
    "duration": 781,
    "start_time": "2021-11-01T17:41:39.834Z"
   },
   {
    "duration": 394,
    "start_time": "2021-11-01T17:42:35.100Z"
   },
   {
    "duration": 784,
    "start_time": "2021-11-01T17:42:46.923Z"
   },
   {
    "duration": 258,
    "start_time": "2021-11-01T17:42:53.633Z"
   },
   {
    "duration": 836,
    "start_time": "2021-11-01T17:43:21.650Z"
   },
   {
    "duration": 185,
    "start_time": "2021-11-01T17:51:34.412Z"
   },
   {
    "duration": 197,
    "start_time": "2021-11-01T17:51:39.730Z"
   },
   {
    "duration": 1836,
    "start_time": "2021-11-01T17:51:58.261Z"
   },
   {
    "duration": 1524,
    "start_time": "2021-11-01T18:00:41.615Z"
   },
   {
    "duration": 6,
    "start_time": "2021-11-01T18:45:45.045Z"
   },
   {
    "duration": 12,
    "start_time": "2021-11-01T18:48:14.553Z"
   },
   {
    "duration": 175,
    "start_time": "2021-11-01T18:49:35.797Z"
   },
   {
    "duration": 11,
    "start_time": "2021-11-01T18:50:16.913Z"
   },
   {
    "duration": 11,
    "start_time": "2021-11-01T18:50:19.449Z"
   },
   {
    "duration": 180,
    "start_time": "2021-11-01T18:51:55.152Z"
   },
   {
    "duration": 179,
    "start_time": "2021-11-01T18:52:16.640Z"
   },
   {
    "duration": 175,
    "start_time": "2021-11-01T18:52:33.934Z"
   },
   {
    "duration": 178,
    "start_time": "2021-11-01T18:53:28.767Z"
   },
   {
    "duration": 29,
    "start_time": "2021-11-01T18:53:48.213Z"
   },
   {
    "duration": 10,
    "start_time": "2021-11-01T18:54:07.078Z"
   },
   {
    "duration": 12,
    "start_time": "2021-11-01T18:54:13.188Z"
   },
   {
    "duration": 21,
    "start_time": "2021-11-01T18:54:35.125Z"
   },
   {
    "duration": 11,
    "start_time": "2021-11-01T18:54:58.754Z"
   },
   {
    "duration": 17,
    "start_time": "2021-11-01T18:55:01.413Z"
   },
   {
    "duration": 12,
    "start_time": "2021-11-01T18:55:05.752Z"
   },
   {
    "duration": 1090,
    "start_time": "2021-11-01T18:55:08.005Z"
   },
   {
    "duration": 1108,
    "start_time": "2021-11-01T18:55:39.948Z"
   },
   {
    "duration": 1151,
    "start_time": "2021-11-01T18:55:47.507Z"
   },
   {
    "duration": 170,
    "start_time": "2021-11-01T18:57:46.921Z"
   },
   {
    "duration": 1480,
    "start_time": "2021-11-01T18:57:57.175Z"
   },
   {
    "duration": 1213,
    "start_time": "2021-11-01T18:58:06.908Z"
   },
   {
    "duration": -646,
    "start_time": "2021-11-01T18:58:42.042Z"
   },
   {
    "duration": 609,
    "start_time": "2021-11-01T18:58:47.521Z"
   },
   {
    "duration": 1138,
    "start_time": "2021-11-01T18:58:51.213Z"
   },
   {
    "duration": 1201,
    "start_time": "2021-11-01T19:01:54.030Z"
   },
   {
    "duration": 1208,
    "start_time": "2021-11-01T19:02:12.838Z"
   },
   {
    "duration": 1224,
    "start_time": "2021-11-01T19:02:39.219Z"
   },
   {
    "duration": 11,
    "start_time": "2021-11-01T19:09:12.110Z"
   },
   {
    "duration": 9,
    "start_time": "2021-11-01T19:10:08.488Z"
   },
   {
    "duration": 164,
    "start_time": "2021-11-01T19:25:02.948Z"
   },
   {
    "duration": 1854,
    "start_time": "2021-11-01T19:25:19.153Z"
   },
   {
    "duration": 175,
    "start_time": "2021-11-01T19:25:40.856Z"
   },
   {
    "duration": 18,
    "start_time": "2021-11-01T19:25:55.053Z"
   },
   {
    "duration": 10,
    "start_time": "2021-11-01T19:26:31.265Z"
   },
   {
    "duration": 14,
    "start_time": "2021-11-01T19:26:37.693Z"
   },
   {
    "duration": 16,
    "start_time": "2021-11-01T19:26:55.897Z"
   },
   {
    "duration": 17,
    "start_time": "2021-11-01T19:27:08.279Z"
   },
   {
    "duration": 14,
    "start_time": "2021-11-01T19:27:42.846Z"
   },
   {
    "duration": 204,
    "start_time": "2021-11-01T19:28:02.136Z"
   },
   {
    "duration": 14,
    "start_time": "2021-11-01T19:28:07.156Z"
   },
   {
    "duration": 15,
    "start_time": "2021-11-01T19:28:28.348Z"
   },
   {
    "duration": 16,
    "start_time": "2021-11-01T19:28:41.959Z"
   },
   {
    "duration": 16,
    "start_time": "2021-11-01T19:28:56.562Z"
   },
   {
    "duration": 17,
    "start_time": "2021-11-01T19:29:50.600Z"
   },
   {
    "duration": 870,
    "start_time": "2021-11-02T08:04:42.404Z"
   },
   {
    "duration": 30,
    "start_time": "2021-11-02T08:16:43.960Z"
   },
   {
    "duration": 17,
    "start_time": "2021-11-02T08:18:21.198Z"
   },
   {
    "duration": 17,
    "start_time": "2021-11-02T08:18:31.222Z"
   },
   {
    "duration": 26,
    "start_time": "2021-11-02T08:18:38.622Z"
   },
   {
    "duration": 15,
    "start_time": "2021-11-02T08:18:44.582Z"
   },
   {
    "duration": 16,
    "start_time": "2021-11-02T08:19:33.397Z"
   },
   {
    "duration": 18,
    "start_time": "2021-11-02T08:20:05.865Z"
   },
   {
    "duration": 17,
    "start_time": "2021-11-02T08:20:15.703Z"
   },
   {
    "duration": 22,
    "start_time": "2021-11-02T08:25:56.714Z"
   },
   {
    "duration": 19,
    "start_time": "2021-11-02T08:26:49.618Z"
   },
   {
    "duration": 21,
    "start_time": "2021-11-02T08:27:03.549Z"
   },
   {
    "duration": 102,
    "start_time": "2021-11-02T08:27:07.422Z"
   },
   {
    "duration": 14,
    "start_time": "2021-11-02T08:27:12.659Z"
   },
   {
    "duration": 48,
    "start_time": "2021-11-02T08:31:02.815Z"
   },
   {
    "duration": 23,
    "start_time": "2021-11-02T08:31:05.552Z"
   },
   {
    "duration": 15,
    "start_time": "2021-11-02T08:31:08.343Z"
   },
   {
    "duration": 18,
    "start_time": "2021-11-02T08:32:35.011Z"
   },
   {
    "duration": 19,
    "start_time": "2021-11-02T08:33:15.138Z"
   },
   {
    "duration": 3046,
    "start_time": "2021-11-02T08:35:24.978Z"
   },
   {
    "duration": 2752,
    "start_time": "2021-11-02T08:43:50.961Z"
   },
   {
    "duration": 19,
    "start_time": "2021-11-02T08:47:29.161Z"
   },
   {
    "duration": 677,
    "start_time": "2021-11-02T10:28:35.475Z"
   },
   {
    "duration": 13,
    "start_time": "2021-11-02T10:28:36.154Z"
   },
   {
    "duration": 15,
    "start_time": "2021-11-02T10:28:36.169Z"
   },
   {
    "duration": 10,
    "start_time": "2021-11-02T10:28:36.186Z"
   },
   {
    "duration": 1535,
    "start_time": "2021-11-02T10:28:36.198Z"
   },
   {
    "duration": 12,
    "start_time": "2021-11-02T10:28:37.734Z"
   },
   {
    "duration": 1150,
    "start_time": "2021-11-02T10:28:37.747Z"
   },
   {
    "duration": 1222,
    "start_time": "2021-11-02T10:28:38.900Z"
   },
   {
    "duration": 8,
    "start_time": "2021-11-02T10:28:40.124Z"
   },
   {
    "duration": 17,
    "start_time": "2021-11-02T10:28:40.133Z"
   },
   {
    "duration": 14,
    "start_time": "2021-11-02T10:28:40.151Z"
   },
   {
    "duration": 36,
    "start_time": "2021-11-02T10:28:40.166Z"
   },
   {
    "duration": 11,
    "start_time": "2021-11-02T10:28:56.852Z"
   },
   {
    "duration": 10,
    "start_time": "2021-11-02T10:29:27.812Z"
   },
   {
    "duration": 12,
    "start_time": "2021-11-02T10:29:44.628Z"
   },
   {
    "duration": 1335,
    "start_time": "2021-11-02T10:30:06.006Z"
   },
   {
    "duration": 796,
    "start_time": "2021-11-02T13:31:48.657Z"
   },
   {
    "duration": 25,
    "start_time": "2021-11-02T13:31:49.455Z"
   },
   {
    "duration": 18,
    "start_time": "2021-11-02T13:31:49.483Z"
   },
   {
    "duration": 14,
    "start_time": "2021-11-02T13:31:49.503Z"
   },
   {
    "duration": 1763,
    "start_time": "2021-11-02T13:31:49.519Z"
   },
   {
    "duration": 12,
    "start_time": "2021-11-02T13:31:51.284Z"
   },
   {
    "duration": 1322,
    "start_time": "2021-11-02T13:31:51.298Z"
   },
   {
    "duration": 1401,
    "start_time": "2021-11-02T13:31:52.623Z"
   },
   {
    "duration": 10,
    "start_time": "2021-11-02T13:31:54.026Z"
   },
   {
    "duration": 36,
    "start_time": "2021-11-02T13:31:54.037Z"
   },
   {
    "duration": 22,
    "start_time": "2021-11-02T13:31:54.075Z"
   },
   {
    "duration": 15,
    "start_time": "2021-11-02T13:31:54.098Z"
   },
   {
    "duration": 17,
    "start_time": "2021-11-02T13:36:51.097Z"
   },
   {
    "duration": 775,
    "start_time": "2021-11-02T17:03:53.045Z"
   },
   {
    "duration": 17,
    "start_time": "2021-11-02T17:03:53.822Z"
   },
   {
    "duration": 25,
    "start_time": "2021-11-02T17:03:53.841Z"
   },
   {
    "duration": 11,
    "start_time": "2021-11-02T17:03:53.868Z"
   },
   {
    "duration": 1684,
    "start_time": "2021-11-02T17:03:53.881Z"
   },
   {
    "duration": 12,
    "start_time": "2021-11-02T17:03:55.567Z"
   },
   {
    "duration": 1265,
    "start_time": "2021-11-02T17:03:55.581Z"
   },
   {
    "duration": 1331,
    "start_time": "2021-11-02T17:03:56.849Z"
   },
   {
    "duration": 11,
    "start_time": "2021-11-02T17:03:58.182Z"
   },
   {
    "duration": 24,
    "start_time": "2021-11-02T17:03:58.195Z"
   },
   {
    "duration": 44,
    "start_time": "2021-11-02T17:03:58.221Z"
   },
   {
    "duration": 17,
    "start_time": "2021-11-02T17:03:58.267Z"
   },
   {
    "duration": 1662,
    "start_time": "2021-11-02T17:34:13.017Z"
   },
   {
    "duration": 1397,
    "start_time": "2021-11-02T17:34:21.354Z"
   },
   {
    "duration": 1745,
    "start_time": "2021-11-02T17:36:13.483Z"
   },
   {
    "duration": 753,
    "start_time": "2021-11-02T17:36:33.514Z"
   },
   {
    "duration": 690,
    "start_time": "2021-11-02T17:36:49.640Z"
   },
   {
    "duration": 716,
    "start_time": "2021-11-02T17:37:12.342Z"
   },
   {
    "duration": 695,
    "start_time": "2021-11-02T17:37:22.398Z"
   },
   {
    "duration": 17,
    "start_time": "2021-11-02T17:37:23.095Z"
   },
   {
    "duration": 15,
    "start_time": "2021-11-02T17:37:23.114Z"
   },
   {
    "duration": 41,
    "start_time": "2021-11-02T17:37:23.132Z"
   },
   {
    "duration": 1698,
    "start_time": "2021-11-02T17:37:23.175Z"
   },
   {
    "duration": 13,
    "start_time": "2021-11-02T17:37:24.876Z"
   },
   {
    "duration": 1257,
    "start_time": "2021-11-02T17:37:24.892Z"
   },
   {
    "duration": 719,
    "start_time": "2021-11-02T17:37:26.151Z"
   },
   {
    "duration": 10,
    "start_time": "2021-11-02T17:37:26.872Z"
   },
   {
    "duration": 24,
    "start_time": "2021-11-02T17:37:26.884Z"
   },
   {
    "duration": 37,
    "start_time": "2021-11-02T17:37:26.911Z"
   },
   {
    "duration": 23,
    "start_time": "2021-11-02T17:37:26.950Z"
   },
   {
    "duration": 679,
    "start_time": "2021-11-02T17:38:02.481Z"
   },
   {
    "duration": 997,
    "start_time": "2021-11-02T17:39:10.649Z"
   },
   {
    "duration": 1036,
    "start_time": "2021-11-02T17:39:19.058Z"
   },
   {
    "duration": 668,
    "start_time": "2021-11-02T17:39:33.617Z"
   },
   {
    "duration": 747,
    "start_time": "2021-11-02T17:39:46.513Z"
   },
   {
    "duration": 23,
    "start_time": "2021-11-02T17:39:47.262Z"
   },
   {
    "duration": 20,
    "start_time": "2021-11-02T17:39:47.290Z"
   },
   {
    "duration": 35,
    "start_time": "2021-11-02T17:39:47.312Z"
   },
   {
    "duration": 1756,
    "start_time": "2021-11-02T17:39:47.349Z"
   },
   {
    "duration": 16,
    "start_time": "2021-11-02T17:39:49.108Z"
   },
   {
    "duration": 1200,
    "start_time": "2021-11-02T17:39:49.128Z"
   },
   {
    "duration": 684,
    "start_time": "2021-11-02T17:39:50.330Z"
   },
   {
    "duration": 9,
    "start_time": "2021-11-02T17:39:51.016Z"
   },
   {
    "duration": 36,
    "start_time": "2021-11-02T17:39:51.027Z"
   },
   {
    "duration": 16,
    "start_time": "2021-11-02T17:39:51.065Z"
   },
   {
    "duration": 22,
    "start_time": "2021-11-02T17:39:51.083Z"
   },
   {
    "duration": 680,
    "start_time": "2021-11-02T17:41:33.632Z"
   },
   {
    "duration": 751,
    "start_time": "2021-11-02T17:41:37.718Z"
   },
   {
    "duration": 690,
    "start_time": "2021-11-02T17:41:44.607Z"
   },
   {
    "duration": 681,
    "start_time": "2021-11-02T18:35:05.895Z"
   },
   {
    "duration": 41,
    "start_time": "2021-11-02T18:35:25.094Z"
   },
   {
    "duration": 667,
    "start_time": "2021-11-02T18:35:33.047Z"
   },
   {
    "duration": 792,
    "start_time": "2021-11-02T18:35:43.875Z"
   },
   {
    "duration": 655,
    "start_time": "2021-11-02T18:35:46.542Z"
   },
   {
    "duration": 648,
    "start_time": "2021-11-02T18:38:33.581Z"
   },
   {
    "duration": 655,
    "start_time": "2021-11-02T18:38:42.491Z"
   },
   {
    "duration": 1131,
    "start_time": "2021-11-02T18:39:08.718Z"
   },
   {
    "duration": 848,
    "start_time": "2021-11-02T18:40:05.767Z"
   },
   {
    "duration": 2197,
    "start_time": "2021-11-02T18:40:28.051Z"
   },
   {
    "duration": 1243,
    "start_time": "2021-11-02T18:40:55.290Z"
   },
   {
    "duration": 1264,
    "start_time": "2021-11-02T18:41:40.969Z"
   },
   {
    "duration": 276,
    "start_time": "2021-11-02T18:42:02.086Z"
   },
   {
    "duration": 254,
    "start_time": "2021-11-02T18:42:28.198Z"
   },
   {
    "duration": 252,
    "start_time": "2021-11-02T18:43:31.580Z"
   },
   {
    "duration": 713,
    "start_time": "2021-11-02T18:43:48.351Z"
   },
   {
    "duration": 16,
    "start_time": "2021-11-02T18:43:49.066Z"
   },
   {
    "duration": 15,
    "start_time": "2021-11-02T18:43:49.084Z"
   },
   {
    "duration": 12,
    "start_time": "2021-11-02T18:43:49.101Z"
   },
   {
    "duration": 1664,
    "start_time": "2021-11-02T18:43:49.115Z"
   },
   {
    "duration": 13,
    "start_time": "2021-11-02T18:43:50.781Z"
   },
   {
    "duration": 1227,
    "start_time": "2021-11-02T18:43:50.796Z"
   },
   {
    "duration": 284,
    "start_time": "2021-11-02T18:43:52.026Z"
   },
   {
    "duration": 10,
    "start_time": "2021-11-02T18:43:52.313Z"
   },
   {
    "duration": 32,
    "start_time": "2021-11-02T18:43:52.325Z"
   },
   {
    "duration": 18,
    "start_time": "2021-11-02T18:43:52.359Z"
   },
   {
    "duration": 15,
    "start_time": "2021-11-02T18:43:52.379Z"
   },
   {
    "duration": 705,
    "start_time": "2021-11-02T18:44:43.369Z"
   },
   {
    "duration": 680,
    "start_time": "2021-11-02T18:44:50.653Z"
   },
   {
    "duration": 753,
    "start_time": "2021-11-02T18:45:20.168Z"
   },
   {
    "duration": 1541,
    "start_time": "2021-11-02T18:46:50.724Z"
   },
   {
    "duration": 306,
    "start_time": "2021-11-02T18:47:27.609Z"
   },
   {
    "duration": 1950,
    "start_time": "2021-11-02T18:47:42.226Z"
   },
   {
    "duration": 1673,
    "start_time": "2021-11-02T18:47:58.728Z"
   },
   {
    "duration": 1660,
    "start_time": "2021-11-02T18:48:11.255Z"
   },
   {
    "duration": 1446,
    "start_time": "2021-11-02T18:49:27.123Z"
   },
   {
    "duration": 1389,
    "start_time": "2021-11-02T18:49:39.419Z"
   },
   {
    "duration": 751,
    "start_time": "2021-11-02T19:08:38.837Z"
   },
   {
    "duration": 16,
    "start_time": "2021-11-02T19:08:39.590Z"
   },
   {
    "duration": 14,
    "start_time": "2021-11-02T19:08:39.608Z"
   },
   {
    "duration": 20,
    "start_time": "2021-11-02T19:08:39.624Z"
   },
   {
    "duration": 1520,
    "start_time": "2021-11-02T19:08:39.646Z"
   },
   {
    "duration": 11,
    "start_time": "2021-11-02T19:08:41.168Z"
   },
   {
    "duration": 1138,
    "start_time": "2021-11-02T19:08:41.181Z"
   },
   {
    "duration": 654,
    "start_time": "2021-11-02T19:08:42.322Z"
   },
   {
    "duration": 328,
    "start_time": "2021-11-02T19:08:42.978Z"
   },
   {
    "duration": 9,
    "start_time": "2021-11-02T19:08:43.308Z"
   },
   {
    "duration": 41,
    "start_time": "2021-11-02T19:08:43.319Z"
   },
   {
    "duration": 24,
    "start_time": "2021-11-02T19:08:43.362Z"
   },
   {
    "duration": 25,
    "start_time": "2021-11-02T19:08:43.388Z"
   },
   {
    "duration": 349,
    "start_time": "2021-11-02T19:09:27.461Z"
   },
   {
    "duration": 10,
    "start_time": "2021-11-02T19:12:34.022Z"
   },
   {
    "duration": 9,
    "start_time": "2021-11-02T19:12:38.612Z"
   },
   {
    "duration": 295,
    "start_time": "2021-11-02T19:21:22.402Z"
   },
   {
    "duration": 457,
    "start_time": "2021-11-02T19:21:51.122Z"
   },
   {
    "duration": 293,
    "start_time": "2021-11-02T19:21:58.552Z"
   },
   {
    "duration": 1080,
    "start_time": "2021-11-02T19:22:25.811Z"
   },
   {
    "duration": 16,
    "start_time": "2021-11-02T19:22:26.893Z"
   },
   {
    "duration": 28,
    "start_time": "2021-11-02T19:22:26.911Z"
   },
   {
    "duration": 16,
    "start_time": "2021-11-02T19:22:26.941Z"
   },
   {
    "duration": 1566,
    "start_time": "2021-11-02T19:22:26.958Z"
   },
   {
    "duration": 23,
    "start_time": "2021-11-02T19:22:28.526Z"
   },
   {
    "duration": 1107,
    "start_time": "2021-11-02T19:22:28.551Z"
   },
   {
    "duration": 738,
    "start_time": "2021-11-02T19:22:29.660Z"
   },
   {
    "duration": 389,
    "start_time": "2021-11-02T19:22:30.401Z"
   },
   {
    "duration": 9,
    "start_time": "2021-11-02T19:22:30.792Z"
   },
   {
    "duration": 29,
    "start_time": "2021-11-02T19:22:30.803Z"
   },
   {
    "duration": 58,
    "start_time": "2021-11-02T19:22:30.833Z"
   },
   {
    "duration": 28,
    "start_time": "2021-11-02T19:22:30.893Z"
   },
   {
    "duration": 41,
    "start_time": "2021-11-02T19:22:30.923Z"
   },
   {
    "duration": 31,
    "start_time": "2021-11-02T19:22:30.966Z"
   },
   {
    "duration": 15,
    "start_time": "2021-11-02T19:24:43.511Z"
   },
   {
    "duration": 335,
    "start_time": "2021-11-02T19:25:59.300Z"
   },
   {
    "duration": 1132,
    "start_time": "2021-11-03T07:40:31.182Z"
   },
   {
    "duration": 55,
    "start_time": "2021-11-03T07:40:38.095Z"
   },
   {
    "duration": 46,
    "start_time": "2021-11-03T07:40:47.039Z"
   },
   {
    "duration": 1138,
    "start_time": "2021-11-03T07:41:14.258Z"
   },
   {
    "duration": 17,
    "start_time": "2021-11-03T07:41:15.398Z"
   },
   {
    "duration": 14,
    "start_time": "2021-11-03T07:41:15.417Z"
   },
   {
    "duration": 12,
    "start_time": "2021-11-03T07:41:15.433Z"
   },
   {
    "duration": 1557,
    "start_time": "2021-11-03T07:41:15.446Z"
   },
   {
    "duration": 14,
    "start_time": "2021-11-03T07:41:17.005Z"
   },
   {
    "duration": 1134,
    "start_time": "2021-11-03T07:41:17.021Z"
   },
   {
    "duration": 754,
    "start_time": "2021-11-03T07:41:18.158Z"
   },
   {
    "duration": 353,
    "start_time": "2021-11-03T07:41:18.915Z"
   },
   {
    "duration": 11,
    "start_time": "2021-11-03T07:41:19.270Z"
   },
   {
    "duration": 15,
    "start_time": "2021-11-03T07:41:19.283Z"
   },
   {
    "duration": 18,
    "start_time": "2021-11-03T07:41:19.300Z"
   },
   {
    "duration": 15,
    "start_time": "2021-11-03T07:41:19.319Z"
   },
   {
    "duration": 41,
    "start_time": "2021-11-03T07:41:19.336Z"
   },
   {
    "duration": 12,
    "start_time": "2021-11-03T07:41:19.379Z"
   },
   {
    "duration": 13,
    "start_time": "2021-11-03T07:41:19.393Z"
   },
   {
    "duration": 660,
    "start_time": "2021-11-03T07:41:36.742Z"
   },
   {
    "duration": 269,
    "start_time": "2021-11-03T07:52:44.440Z"
   },
   {
    "duration": 206,
    "start_time": "2021-11-03T07:53:06.922Z"
   },
   {
    "duration": 204,
    "start_time": "2021-11-03T07:53:13.161Z"
   },
   {
    "duration": 398,
    "start_time": "2021-11-03T07:53:45.362Z"
   },
   {
    "duration": 401,
    "start_time": "2021-11-03T07:54:37.842Z"
   },
   {
    "duration": 1111,
    "start_time": "2021-11-03T07:55:28.716Z"
   },
   {
    "duration": 1006,
    "start_time": "2021-11-03T07:55:57.727Z"
   },
   {
    "duration": 365,
    "start_time": "2021-11-03T08:05:52.459Z"
   },
   {
    "duration": 1633,
    "start_time": "2021-11-03T08:06:22.426Z"
   },
   {
    "duration": 1720,
    "start_time": "2021-11-03T08:06:35.868Z"
   },
   {
    "duration": 1156,
    "start_time": "2021-11-03T08:19:32.836Z"
   },
   {
    "duration": 17,
    "start_time": "2021-11-03T08:19:33.994Z"
   },
   {
    "duration": 16,
    "start_time": "2021-11-03T08:19:34.013Z"
   },
   {
    "duration": 11,
    "start_time": "2021-11-03T08:19:34.031Z"
   },
   {
    "duration": 1571,
    "start_time": "2021-11-03T08:19:34.063Z"
   },
   {
    "duration": 27,
    "start_time": "2021-11-03T08:19:35.636Z"
   },
   {
    "duration": 1109,
    "start_time": "2021-11-03T08:19:35.665Z"
   },
   {
    "duration": 1059,
    "start_time": "2021-11-03T08:19:36.777Z"
   },
   {
    "duration": 1724,
    "start_time": "2021-11-03T08:19:37.839Z"
   },
   {
    "duration": 9,
    "start_time": "2021-11-03T08:19:39.565Z"
   },
   {
    "duration": 15,
    "start_time": "2021-11-03T08:19:39.575Z"
   },
   {
    "duration": 19,
    "start_time": "2021-11-03T08:19:39.592Z"
   },
   {
    "duration": 17,
    "start_time": "2021-11-03T08:19:39.613Z"
   },
   {
    "duration": 45,
    "start_time": "2021-11-03T08:19:39.632Z"
   },
   {
    "duration": 12,
    "start_time": "2021-11-03T08:19:39.679Z"
   },
   {
    "duration": 13,
    "start_time": "2021-11-03T08:19:39.693Z"
   },
   {
    "duration": 1104,
    "start_time": "2021-11-03T08:34:12.500Z"
   },
   {
    "duration": 16,
    "start_time": "2021-11-03T08:34:13.606Z"
   },
   {
    "duration": 15,
    "start_time": "2021-11-03T08:34:13.624Z"
   },
   {
    "duration": 25,
    "start_time": "2021-11-03T08:34:13.641Z"
   },
   {
    "duration": 1700,
    "start_time": "2021-11-03T08:34:13.668Z"
   },
   {
    "duration": 13,
    "start_time": "2021-11-03T08:34:15.370Z"
   },
   {
    "duration": 1160,
    "start_time": "2021-11-03T08:34:15.385Z"
   },
   {
    "duration": 1120,
    "start_time": "2021-11-03T08:34:16.547Z"
   },
   {
    "duration": 1866,
    "start_time": "2021-11-03T08:34:17.669Z"
   },
   {
    "duration": 10,
    "start_time": "2021-11-03T08:34:19.538Z"
   },
   {
    "duration": 21,
    "start_time": "2021-11-03T08:34:19.550Z"
   },
   {
    "duration": 19,
    "start_time": "2021-11-03T08:34:19.573Z"
   },
   {
    "duration": 17,
    "start_time": "2021-11-03T08:34:19.594Z"
   },
   {
    "duration": 52,
    "start_time": "2021-11-03T08:34:19.613Z"
   },
   {
    "duration": 14,
    "start_time": "2021-11-03T08:34:19.667Z"
   },
   {
    "duration": 14,
    "start_time": "2021-11-03T08:34:19.683Z"
   },
   {
    "duration": 13,
    "start_time": "2021-11-03T08:35:34.245Z"
   },
   {
    "duration": 14,
    "start_time": "2021-11-03T08:36:20.669Z"
   },
   {
    "duration": 1139,
    "start_time": "2021-11-03T08:36:34.959Z"
   },
   {
    "duration": 16,
    "start_time": "2021-11-03T08:36:36.101Z"
   },
   {
    "duration": 16,
    "start_time": "2021-11-03T08:36:36.119Z"
   },
   {
    "duration": 30,
    "start_time": "2021-11-03T08:36:36.137Z"
   },
   {
    "duration": 1558,
    "start_time": "2021-11-03T08:36:36.169Z"
   },
   {
    "duration": 12,
    "start_time": "2021-11-03T08:36:37.728Z"
   },
   {
    "duration": 1121,
    "start_time": "2021-11-03T08:36:37.742Z"
   },
   {
    "duration": 1044,
    "start_time": "2021-11-03T08:36:38.865Z"
   },
   {
    "duration": 1740,
    "start_time": "2021-11-03T08:36:39.911Z"
   },
   {
    "duration": 16,
    "start_time": "2021-11-03T08:36:41.653Z"
   },
   {
    "duration": 12,
    "start_time": "2021-11-03T08:36:41.670Z"
   },
   {
    "duration": 18,
    "start_time": "2021-11-03T08:36:41.683Z"
   },
   {
    "duration": 17,
    "start_time": "2021-11-03T08:36:41.703Z"
   },
   {
    "duration": 44,
    "start_time": "2021-11-03T08:36:41.721Z"
   },
   {
    "duration": 13,
    "start_time": "2021-11-03T08:36:41.767Z"
   },
   {
    "duration": 13,
    "start_time": "2021-11-03T08:36:41.781Z"
   },
   {
    "duration": 1426,
    "start_time": "2021-11-03T09:18:34.102Z"
   },
   {
    "duration": 24,
    "start_time": "2021-11-03T09:18:35.531Z"
   },
   {
    "duration": 48,
    "start_time": "2021-11-03T09:18:35.559Z"
   },
   {
    "duration": 19,
    "start_time": "2021-11-03T09:18:35.611Z"
   },
   {
    "duration": 2729,
    "start_time": "2021-11-03T09:18:35.633Z"
   },
   {
    "duration": 18,
    "start_time": "2021-11-03T09:18:38.365Z"
   },
   {
    "duration": 1948,
    "start_time": "2021-11-03T09:18:38.402Z"
   },
   {
    "duration": 1800,
    "start_time": "2021-11-03T09:18:40.352Z"
   },
   {
    "duration": 2498,
    "start_time": "2021-11-03T09:18:42.156Z"
   },
   {
    "duration": 13,
    "start_time": "2021-11-03T09:18:44.656Z"
   },
   {
    "duration": 37,
    "start_time": "2021-11-03T09:18:44.672Z"
   },
   {
    "duration": 29,
    "start_time": "2021-11-03T09:18:44.711Z"
   },
   {
    "duration": 65,
    "start_time": "2021-11-03T09:18:44.742Z"
   },
   {
    "duration": 25,
    "start_time": "2021-11-03T09:18:44.810Z"
   },
   {
    "duration": 24,
    "start_time": "2021-11-03T09:18:44.838Z"
   },
   {
    "duration": 49,
    "start_time": "2021-11-03T09:18:44.865Z"
   },
   {
    "duration": 1702,
    "start_time": "2021-11-03T09:27:00.585Z"
   },
   {
    "duration": 448,
    "start_time": "2021-11-03T09:27:41.040Z"
   },
   {
    "duration": 328,
    "start_time": "2021-11-03T09:27:44.746Z"
   },
   {
    "duration": 651,
    "start_time": "2021-11-03T09:27:54.402Z"
   },
   {
    "duration": 470,
    "start_time": "2021-11-03T09:27:59.952Z"
   },
   {
    "duration": 8,
    "start_time": "2021-11-03T09:31:30.855Z"
   },
   {
    "duration": 8,
    "start_time": "2021-11-03T09:31:38.766Z"
   },
   {
    "duration": 7,
    "start_time": "2021-11-03T09:31:41.464Z"
   },
   {
    "duration": 99,
    "start_time": "2021-11-03T09:31:49.257Z"
   },
   {
    "duration": 9,
    "start_time": "2021-11-03T09:31:56.939Z"
   },
   {
    "duration": 451,
    "start_time": "2021-11-03T10:16:16.792Z"
   },
   {
    "duration": 1493,
    "start_time": "2021-11-03T10:16:30.818Z"
   },
   {
    "duration": 23,
    "start_time": "2021-11-03T10:16:32.313Z"
   },
   {
    "duration": 29,
    "start_time": "2021-11-03T10:16:32.339Z"
   },
   {
    "duration": 33,
    "start_time": "2021-11-03T10:16:32.370Z"
   },
   {
    "duration": 2683,
    "start_time": "2021-11-03T10:16:32.405Z"
   },
   {
    "duration": 21,
    "start_time": "2021-11-03T10:16:35.091Z"
   },
   {
    "duration": 1936,
    "start_time": "2021-11-03T10:16:35.114Z"
   },
   {
    "duration": 1762,
    "start_time": "2021-11-03T10:16:37.054Z"
   },
   {
    "duration": 362,
    "start_time": "2021-11-03T10:16:38.819Z"
   },
   {
    "duration": 2398,
    "start_time": "2021-11-03T10:16:39.184Z"
   },
   {
    "duration": 26,
    "start_time": "2021-11-03T10:16:41.585Z"
   },
   {
    "duration": 17,
    "start_time": "2021-11-03T10:16:41.613Z"
   },
   {
    "duration": 27,
    "start_time": "2021-11-03T10:16:41.633Z"
   },
   {
    "duration": 57,
    "start_time": "2021-11-03T10:16:41.662Z"
   },
   {
    "duration": 27,
    "start_time": "2021-11-03T10:16:41.721Z"
   },
   {
    "duration": 54,
    "start_time": "2021-11-03T10:16:41.751Z"
   },
   {
    "duration": 8,
    "start_time": "2021-11-03T10:16:41.808Z"
   },
   {
    "duration": 36,
    "start_time": "2021-11-03T10:16:41.819Z"
   },
   {
    "duration": 30,
    "start_time": "2021-11-03T10:17:13.670Z"
   },
   {
    "duration": 24,
    "start_time": "2021-11-03T10:17:27.645Z"
   },
   {
    "duration": 21,
    "start_time": "2021-11-03T10:18:10.926Z"
   },
   {
    "duration": 23,
    "start_time": "2021-11-03T10:18:15.141Z"
   },
   {
    "duration": 25,
    "start_time": "2021-11-03T10:21:05.863Z"
   },
   {
    "duration": 11412,
    "start_time": "2021-11-03T10:21:52.328Z"
   },
   {
    "duration": 383,
    "start_time": "2021-11-03T10:22:18.793Z"
   },
   {
    "duration": 26,
    "start_time": "2021-11-03T10:22:29.187Z"
   },
   {
    "duration": 286,
    "start_time": "2021-11-03T10:22:48.801Z"
   },
   {
    "duration": 438,
    "start_time": "2021-11-03T10:23:12.625Z"
   },
   {
    "duration": 694,
    "start_time": "2021-11-03T10:23:39.441Z"
   },
   {
    "duration": 763,
    "start_time": "2021-11-03T10:23:53.217Z"
   },
   {
    "duration": 675,
    "start_time": "2021-11-03T10:24:11.770Z"
   },
   {
    "duration": 674,
    "start_time": "2021-11-03T10:24:55.969Z"
   },
   {
    "duration": 577,
    "start_time": "2021-11-03T10:26:07.437Z"
   },
   {
    "duration": 378,
    "start_time": "2021-11-03T10:27:49.726Z"
   },
   {
    "duration": 387,
    "start_time": "2021-11-03T10:28:11.509Z"
   },
   {
    "duration": 385,
    "start_time": "2021-11-03T10:28:51.998Z"
   },
   {
    "duration": 382,
    "start_time": "2021-11-03T10:29:02.502Z"
   },
   {
    "duration": 390,
    "start_time": "2021-11-03T10:29:48.526Z"
   },
   {
    "duration": 1450,
    "start_time": "2021-11-03T10:30:12.072Z"
   },
   {
    "duration": 22,
    "start_time": "2021-11-03T10:30:13.525Z"
   },
   {
    "duration": 20,
    "start_time": "2021-11-03T10:30:13.550Z"
   },
   {
    "duration": 37,
    "start_time": "2021-11-03T10:30:13.573Z"
   },
   {
    "duration": 2653,
    "start_time": "2021-11-03T10:30:13.612Z"
   },
   {
    "duration": 34,
    "start_time": "2021-11-03T10:30:16.268Z"
   },
   {
    "duration": 1920,
    "start_time": "2021-11-03T10:30:16.305Z"
   },
   {
    "duration": 1877,
    "start_time": "2021-11-03T10:30:18.228Z"
   },
   {
    "duration": 384,
    "start_time": "2021-11-03T10:30:20.108Z"
   },
   {
    "duration": 2382,
    "start_time": "2021-11-03T10:30:20.494Z"
   },
   {
    "duration": 26,
    "start_time": "2021-11-03T10:30:22.880Z"
   },
   {
    "duration": 25,
    "start_time": "2021-11-03T10:30:22.909Z"
   },
   {
    "duration": 706,
    "start_time": "2021-11-03T10:30:22.937Z"
   },
   {
    "duration": 701,
    "start_time": "2021-11-03T10:30:23.646Z"
   },
   {
    "duration": 633,
    "start_time": "2021-11-03T10:30:24.350Z"
   },
   {
    "duration": 37,
    "start_time": "2021-11-03T10:30:24.986Z"
   },
   {
    "duration": 8,
    "start_time": "2021-11-03T10:30:25.026Z"
   },
   {
    "duration": 144,
    "start_time": "2021-11-03T10:30:25.036Z"
   },
   {
    "duration": 598,
    "start_time": "2021-11-03T10:31:07.846Z"
   },
   {
    "duration": 1383,
    "start_time": "2021-11-03T10:31:19.440Z"
   },
   {
    "duration": 23,
    "start_time": "2021-11-03T10:31:20.827Z"
   },
   {
    "duration": 20,
    "start_time": "2021-11-03T10:31:20.854Z"
   },
   {
    "duration": 39,
    "start_time": "2021-11-03T10:31:20.877Z"
   },
   {
    "duration": 2912,
    "start_time": "2021-11-03T10:31:20.919Z"
   },
   {
    "duration": 19,
    "start_time": "2021-11-03T10:31:23.833Z"
   },
   {
    "duration": 1988,
    "start_time": "2021-11-03T10:31:23.855Z"
   },
   {
    "duration": 1809,
    "start_time": "2021-11-03T10:31:25.849Z"
   },
   {
    "duration": 390,
    "start_time": "2021-11-03T10:31:27.662Z"
   },
   {
    "duration": 2420,
    "start_time": "2021-11-03T10:31:28.056Z"
   },
   {
    "duration": 31,
    "start_time": "2021-11-03T10:31:30.479Z"
   },
   {
    "duration": 30,
    "start_time": "2021-11-03T10:31:30.514Z"
   },
   {
    "duration": 803,
    "start_time": "2021-11-03T10:31:30.547Z"
   },
   {
    "duration": 707,
    "start_time": "2021-11-03T10:31:31.354Z"
   },
   {
    "duration": 632,
    "start_time": "2021-11-03T10:31:32.064Z"
   },
   {
    "duration": 24,
    "start_time": "2021-11-03T10:31:32.702Z"
   },
   {
    "duration": 9,
    "start_time": "2021-11-03T10:31:32.730Z"
   },
   {
    "duration": 164,
    "start_time": "2021-11-03T10:31:32.742Z"
   },
   {
    "duration": 2412,
    "start_time": "2021-11-03T10:34:50.456Z"
   },
   {
    "duration": 776,
    "start_time": "2021-11-03T10:35:14.607Z"
   },
   {
    "duration": 1376,
    "start_time": "2021-11-03T10:35:22.752Z"
   },
   {
    "duration": 24,
    "start_time": "2021-11-03T10:35:24.130Z"
   },
   {
    "duration": 20,
    "start_time": "2021-11-03T10:35:24.156Z"
   },
   {
    "duration": 28,
    "start_time": "2021-11-03T10:35:24.179Z"
   },
   {
    "duration": 2668,
    "start_time": "2021-11-03T10:35:24.210Z"
   },
   {
    "duration": 28,
    "start_time": "2021-11-03T10:35:26.881Z"
   },
   {
    "duration": 2231,
    "start_time": "2021-11-03T10:35:26.911Z"
   },
   {
    "duration": 1828,
    "start_time": "2021-11-03T10:35:29.146Z"
   },
   {
    "duration": 387,
    "start_time": "2021-11-03T10:35:30.977Z"
   },
   {
    "duration": 1201,
    "start_time": "2021-11-03T10:35:31.367Z"
   },
   {
    "duration": 769,
    "start_time": "2021-11-03T10:35:31.801Z"
   },
   {
    "duration": 758,
    "start_time": "2021-11-03T10:35:31.814Z"
   },
   {
    "duration": 746,
    "start_time": "2021-11-03T10:35:31.827Z"
   },
   {
    "duration": 737,
    "start_time": "2021-11-03T10:35:31.838Z"
   },
   {
    "duration": 727,
    "start_time": "2021-11-03T10:35:31.849Z"
   },
   {
    "duration": 718,
    "start_time": "2021-11-03T10:35:31.860Z"
   },
   {
    "duration": 709,
    "start_time": "2021-11-03T10:35:31.871Z"
   },
   {
    "duration": 700,
    "start_time": "2021-11-03T10:35:31.883Z"
   },
   {
    "duration": 1079,
    "start_time": "2021-11-03T10:35:46.551Z"
   },
   {
    "duration": 1894,
    "start_time": "2021-11-03T10:35:56.441Z"
   },
   {
    "duration": 973,
    "start_time": "2021-11-03T10:36:18.617Z"
   },
   {
    "duration": 1423,
    "start_time": "2021-11-03T10:36:26.411Z"
   },
   {
    "duration": 24,
    "start_time": "2021-11-03T10:36:27.837Z"
   },
   {
    "duration": 21,
    "start_time": "2021-11-03T10:36:27.865Z"
   },
   {
    "duration": 19,
    "start_time": "2021-11-03T10:36:27.901Z"
   },
   {
    "duration": 2838,
    "start_time": "2021-11-03T10:36:27.923Z"
   },
   {
    "duration": 19,
    "start_time": "2021-11-03T10:36:30.763Z"
   },
   {
    "duration": 1946,
    "start_time": "2021-11-03T10:36:30.800Z"
   },
   {
    "duration": 1116,
    "start_time": "2021-11-03T10:36:32.751Z"
   },
   {
    "duration": 679,
    "start_time": "2021-11-03T10:36:33.192Z"
   },
   {
    "duration": 646,
    "start_time": "2021-11-03T10:36:33.226Z"
   },
   {
    "duration": 623,
    "start_time": "2021-11-03T10:36:33.251Z"
   },
   {
    "duration": 617,
    "start_time": "2021-11-03T10:36:33.259Z"
   },
   {
    "duration": 612,
    "start_time": "2021-11-03T10:36:33.266Z"
   },
   {
    "duration": 600,
    "start_time": "2021-11-03T10:36:33.280Z"
   },
   {
    "duration": 618,
    "start_time": "2021-11-03T10:36:33.282Z"
   },
   {
    "duration": 604,
    "start_time": "2021-11-03T10:36:33.299Z"
   },
   {
    "duration": 597,
    "start_time": "2021-11-03T10:36:33.308Z"
   },
   {
    "duration": 585,
    "start_time": "2021-11-03T10:36:33.322Z"
   },
   {
    "duration": 667,
    "start_time": "2021-11-03T10:36:58.424Z"
   },
   {
    "duration": 366,
    "start_time": "2021-11-03T10:37:18.697Z"
   },
   {
    "duration": 1955,
    "start_time": "2021-11-03T10:37:32.306Z"
   },
   {
    "duration": 632,
    "start_time": "2021-11-03T10:38:06.946Z"
   },
   {
    "duration": 2435,
    "start_time": "2021-11-03T10:39:41.525Z"
   },
   {
    "duration": 783,
    "start_time": "2021-11-03T10:41:10.294Z"
   },
   {
    "duration": 648,
    "start_time": "2021-11-03T10:41:22.284Z"
   },
   {
    "duration": 653,
    "start_time": "2021-11-03T10:42:00.446Z"
   },
   {
    "duration": 701,
    "start_time": "2021-11-03T10:42:35.117Z"
   },
   {
    "duration": 2527,
    "start_time": "2021-11-03T10:42:45.478Z"
   },
   {
    "duration": 2433,
    "start_time": "2021-11-03T10:43:30.280Z"
   },
   {
    "duration": 2397,
    "start_time": "2021-11-03T10:43:38.556Z"
   },
   {
    "duration": 618,
    "start_time": "2021-11-03T10:43:49.077Z"
   },
   {
    "duration": 648,
    "start_time": "2021-11-03T10:44:37.311Z"
   },
   {
    "duration": 1459,
    "start_time": "2021-11-03T10:44:52.674Z"
   },
   {
    "duration": 23,
    "start_time": "2021-11-03T10:44:54.135Z"
   },
   {
    "duration": 21,
    "start_time": "2021-11-03T10:44:54.161Z"
   },
   {
    "duration": 17,
    "start_time": "2021-11-03T10:44:54.202Z"
   },
   {
    "duration": 2711,
    "start_time": "2021-11-03T10:44:54.222Z"
   },
   {
    "duration": 17,
    "start_time": "2021-11-03T10:44:56.936Z"
   },
   {
    "duration": 1949,
    "start_time": "2021-11-03T10:44:56.955Z"
   },
   {
    "duration": 1914,
    "start_time": "2021-11-03T10:44:58.908Z"
   },
   {
    "duration": 368,
    "start_time": "2021-11-03T10:45:00.825Z"
   },
   {
    "duration": 2763,
    "start_time": "2021-11-03T10:45:01.200Z"
   },
   {
    "duration": 35,
    "start_time": "2021-11-03T10:45:03.966Z"
   },
   {
    "duration": 19,
    "start_time": "2021-11-03T10:45:04.004Z"
   },
   {
    "duration": 764,
    "start_time": "2021-11-03T10:45:04.026Z"
   },
   {
    "duration": 801,
    "start_time": "2021-11-03T10:45:04.801Z"
   },
   {
    "duration": 653,
    "start_time": "2021-11-03T10:45:05.605Z"
   },
   {
    "duration": 45,
    "start_time": "2021-11-03T10:45:06.261Z"
   },
   {
    "duration": 9,
    "start_time": "2021-11-03T10:45:06.308Z"
   },
   {
    "duration": 152,
    "start_time": "2021-11-03T10:45:06.320Z"
   },
   {
    "duration": 2348,
    "start_time": "2021-11-03T10:45:44.530Z"
   },
   {
    "duration": 2435,
    "start_time": "2021-11-03T10:46:57.132Z"
   },
   {
    "duration": 486,
    "start_time": "2021-11-03T11:50:41.871Z"
   },
   {
    "duration": 1718,
    "start_time": "2021-11-03T11:50:48.946Z"
   },
   {
    "duration": 33,
    "start_time": "2021-11-03T11:50:50.667Z"
   },
   {
    "duration": 23,
    "start_time": "2021-11-03T11:50:50.704Z"
   },
   {
    "duration": 20,
    "start_time": "2021-11-03T11:50:50.731Z"
   },
   {
    "duration": 3072,
    "start_time": "2021-11-03T11:50:50.754Z"
   },
   {
    "duration": 681,
    "start_time": "2021-11-03T11:50:53.829Z"
   },
   {
    "duration": 831,
    "start_time": "2021-11-03T11:50:53.683Z"
   },
   {
    "duration": 814,
    "start_time": "2021-11-03T11:50:53.701Z"
   },
   {
    "duration": 811,
    "start_time": "2021-11-03T11:50:53.706Z"
   },
   {
    "duration": 803,
    "start_time": "2021-11-03T11:50:53.716Z"
   },
   {
    "duration": 795,
    "start_time": "2021-11-03T11:50:53.726Z"
   },
   {
    "duration": 787,
    "start_time": "2021-11-03T11:50:53.736Z"
   },
   {
    "duration": 778,
    "start_time": "2021-11-03T11:50:53.747Z"
   },
   {
    "duration": 770,
    "start_time": "2021-11-03T11:50:53.758Z"
   },
   {
    "duration": 760,
    "start_time": "2021-11-03T11:50:53.770Z"
   },
   {
    "duration": 749,
    "start_time": "2021-11-03T11:50:53.783Z"
   },
   {
    "duration": 740,
    "start_time": "2021-11-03T11:50:53.794Z"
   },
   {
    "duration": 727,
    "start_time": "2021-11-03T11:50:53.809Z"
   },
   {
    "duration": 718,
    "start_time": "2021-11-03T11:50:53.820Z"
   },
   {
    "duration": 710,
    "start_time": "2021-11-03T11:50:53.830Z"
   },
   {
    "duration": 374,
    "start_time": "2021-11-03T11:52:50.157Z"
   },
   {
    "duration": 372,
    "start_time": "2021-11-03T11:53:01.245Z"
   },
   {
    "duration": 395,
    "start_time": "2021-11-03T11:53:09.890Z"
   },
   {
    "duration": 17,
    "start_time": "2021-11-03T11:53:31.436Z"
   },
   {
    "duration": 59,
    "start_time": "2021-11-03T11:53:34.904Z"
   },
   {
    "duration": 358,
    "start_time": "2021-11-03T11:53:39.628Z"
   },
   {
    "duration": 1442,
    "start_time": "2021-11-03T11:53:49.584Z"
   },
   {
    "duration": 24,
    "start_time": "2021-11-03T11:53:51.029Z"
   },
   {
    "duration": 22,
    "start_time": "2021-11-03T11:53:51.056Z"
   },
   {
    "duration": 19,
    "start_time": "2021-11-03T11:53:51.101Z"
   },
   {
    "duration": 2811,
    "start_time": "2021-11-03T11:53:51.123Z"
   },
   {
    "duration": 501,
    "start_time": "2021-11-03T11:53:53.937Z"
   },
   {
    "duration": 843,
    "start_time": "2021-11-03T11:53:53.599Z"
   },
   {
    "duration": 822,
    "start_time": "2021-11-03T11:53:53.622Z"
   },
   {
    "duration": 812,
    "start_time": "2021-11-03T11:53:53.634Z"
   },
   {
    "duration": 804,
    "start_time": "2021-11-03T11:53:53.644Z"
   },
   {
    "duration": 796,
    "start_time": "2021-11-03T11:53:53.654Z"
   },
   {
    "duration": 788,
    "start_time": "2021-11-03T11:53:53.664Z"
   },
   {
    "duration": 780,
    "start_time": "2021-11-03T11:53:53.674Z"
   },
   {
    "duration": 770,
    "start_time": "2021-11-03T11:53:53.686Z"
   },
   {
    "duration": -878,
    "start_time": "2021-11-03T11:53:55.336Z"
   },
   {
    "duration": -891,
    "start_time": "2021-11-03T11:53:55.351Z"
   },
   {
    "duration": -900,
    "start_time": "2021-11-03T11:53:55.361Z"
   },
   {
    "duration": -908,
    "start_time": "2021-11-03T11:53:55.371Z"
   },
   {
    "duration": -918,
    "start_time": "2021-11-03T11:53:55.382Z"
   },
   {
    "duration": -928,
    "start_time": "2021-11-03T11:53:55.394Z"
   },
   {
    "duration": 814,
    "start_time": "2021-11-03T11:54:35.190Z"
   },
   {
    "duration": 16,
    "start_time": "2021-11-03T11:54:52.765Z"
   },
   {
    "duration": 20,
    "start_time": "2021-11-03T11:55:40.837Z"
   },
   {
    "duration": 22,
    "start_time": "2021-11-03T11:55:50.932Z"
   },
   {
    "duration": 11160,
    "start_time": "2021-11-03T11:58:01.191Z"
   },
   {
    "duration": 24,
    "start_time": "2021-11-03T11:58:26.232Z"
   },
   {
    "duration": 390,
    "start_time": "2021-11-03T11:58:40.158Z"
   },
   {
    "duration": 28,
    "start_time": "2021-11-03T11:58:52.064Z"
   },
   {
    "duration": 30,
    "start_time": "2021-11-03T11:59:27.784Z"
   },
   {
    "duration": 404,
    "start_time": "2021-11-03T11:59:41.289Z"
   },
   {
    "duration": 32,
    "start_time": "2021-11-03T11:59:44.947Z"
   },
   {
    "duration": 30,
    "start_time": "2021-11-03T11:59:51.225Z"
   },
   {
    "duration": 924,
    "start_time": "2021-11-03T12:07:41.902Z"
   },
   {
    "duration": 382,
    "start_time": "2021-11-03T12:07:45.846Z"
   },
   {
    "duration": 18,
    "start_time": "2021-11-03T12:07:51.694Z"
   },
   {
    "duration": 1992,
    "start_time": "2021-11-03T12:07:54.422Z"
   },
   {
    "duration": 1870,
    "start_time": "2021-11-03T12:08:00.688Z"
   },
   {
    "duration": 2419,
    "start_time": "2021-11-03T12:08:06.846Z"
   },
   {
    "duration": 2508,
    "start_time": "2021-11-03T12:08:23.592Z"
   },
   {
    "duration": 18,
    "start_time": "2021-11-03T12:08:29.096Z"
   },
   {
    "duration": 18,
    "start_time": "2021-11-03T12:08:31.864Z"
   },
   {
    "duration": 659,
    "start_time": "2021-11-03T12:08:36.544Z"
   },
   {
    "duration": 782,
    "start_time": "2021-11-03T12:08:43.664Z"
   },
   {
    "duration": 643,
    "start_time": "2021-11-03T12:08:52.007Z"
   },
   {
    "duration": 23,
    "start_time": "2021-11-03T12:09:03.712Z"
   },
   {
    "duration": 24,
    "start_time": "2021-11-03T12:09:07.169Z"
   },
   {
    "duration": 1127,
    "start_time": "2021-11-03T16:24:07.719Z"
   },
   {
    "duration": 20,
    "start_time": "2021-11-03T16:24:08.848Z"
   },
   {
    "duration": 14,
    "start_time": "2021-11-03T16:24:08.870Z"
   },
   {
    "duration": 11,
    "start_time": "2021-11-03T16:24:08.887Z"
   },
   {
    "duration": 1566,
    "start_time": "2021-11-03T16:24:08.899Z"
   },
   {
    "duration": 20,
    "start_time": "2021-11-03T16:24:10.467Z"
   },
   {
    "duration": 12,
    "start_time": "2021-11-03T16:24:10.488Z"
   },
   {
    "duration": 1150,
    "start_time": "2021-11-03T16:24:10.502Z"
   },
   {
    "duration": 1126,
    "start_time": "2021-11-03T16:24:11.654Z"
   },
   {
    "duration": 218,
    "start_time": "2021-11-03T16:24:12.782Z"
   },
   {
    "duration": 1661,
    "start_time": "2021-11-03T16:24:13.002Z"
   },
   {
    "duration": 1600,
    "start_time": "2021-11-03T16:24:14.664Z"
   },
   {
    "duration": 10,
    "start_time": "2021-11-03T16:24:16.265Z"
   },
   {
    "duration": 15,
    "start_time": "2021-11-03T16:24:16.277Z"
   },
   {
    "duration": 400,
    "start_time": "2021-11-03T16:24:16.294Z"
   },
   {
    "duration": 517,
    "start_time": "2021-11-03T16:24:16.695Z"
   },
   {
    "duration": 371,
    "start_time": "2021-11-03T16:24:17.213Z"
   },
   {
    "duration": 17,
    "start_time": "2021-11-03T16:24:17.586Z"
   },
   {
    "duration": 7,
    "start_time": "2021-11-03T16:24:17.605Z"
   },
   {
    "duration": 50,
    "start_time": "2021-11-03T16:24:17.614Z"
   },
   {
    "duration": 12,
    "start_time": "2021-11-03T16:24:43.648Z"
   },
   {
    "duration": 1096,
    "start_time": "2021-11-03T16:24:54.699Z"
   },
   {
    "duration": 19,
    "start_time": "2021-11-03T16:24:55.797Z"
   },
   {
    "duration": 15,
    "start_time": "2021-11-03T16:24:55.818Z"
   },
   {
    "duration": 12,
    "start_time": "2021-11-03T16:24:55.835Z"
   },
   {
    "duration": 1589,
    "start_time": "2021-11-03T16:24:55.863Z"
   },
   {
    "duration": 26,
    "start_time": "2021-11-03T16:24:57.454Z"
   },
   {
    "duration": 13,
    "start_time": "2021-11-03T16:24:57.482Z"
   },
   {
    "duration": 1176,
    "start_time": "2021-11-03T16:24:57.496Z"
   },
   {
    "duration": 1434,
    "start_time": "2021-11-04T03:51:25.601Z"
   },
   {
    "duration": 22,
    "start_time": "2021-11-04T03:51:27.039Z"
   },
   {
    "duration": 21,
    "start_time": "2021-11-04T03:51:27.064Z"
   },
   {
    "duration": 18,
    "start_time": "2021-11-04T03:51:27.100Z"
   },
   {
    "duration": 2664,
    "start_time": "2021-11-04T03:51:27.120Z"
   },
   {
    "duration": 43,
    "start_time": "2021-11-04T03:51:29.786Z"
   },
   {
    "duration": 17,
    "start_time": "2021-11-04T03:51:29.831Z"
   },
   {
    "duration": 1973,
    "start_time": "2021-11-04T03:51:29.854Z"
   },
   {
    "duration": 1860,
    "start_time": "2021-11-04T03:51:31.831Z"
   },
   {
    "duration": 368,
    "start_time": "2021-11-04T03:51:33.701Z"
   },
   {
    "duration": 2391,
    "start_time": "2021-11-04T03:51:34.072Z"
   },
   {
    "duration": 2351,
    "start_time": "2021-11-04T03:51:36.466Z"
   },
   {
    "duration": 14,
    "start_time": "2021-11-04T03:51:38.820Z"
   },
   {
    "duration": 18,
    "start_time": "2021-11-04T03:51:38.836Z"
   },
   {
    "duration": 692,
    "start_time": "2021-11-04T03:51:38.857Z"
   },
   {
    "duration": 808,
    "start_time": "2021-11-04T03:51:39.552Z"
   },
   {
    "duration": 631,
    "start_time": "2021-11-04T03:51:40.363Z"
   },
   {
    "duration": 21,
    "start_time": "2021-11-04T03:51:41.000Z"
   },
   {
    "duration": 10,
    "start_time": "2021-11-04T03:51:41.023Z"
   },
   {
    "duration": 21,
    "start_time": "2021-11-04T03:51:41.035Z"
   }
  ],
  "kernelspec": {
   "display_name": "Python 3",
   "language": "python",
   "name": "python3"
  },
  "language_info": {
   "codemirror_mode": {
    "name": "ipython",
    "version": 3
   },
   "file_extension": ".py",
   "mimetype": "text/x-python",
   "name": "python",
   "nbconvert_exporter": "python",
   "pygments_lexer": "ipython3",
   "version": "3.7.8"
  },
  "toc": {
   "base_numbering": 1,
   "nav_menu": {},
   "number_sections": true,
   "sideBar": true,
   "skip_h1_title": true,
   "title_cell": "Table of Contents",
   "title_sidebar": "Contents",
   "toc_cell": false,
   "toc_position": {},
   "toc_section_display": true,
   "toc_window_display": false
  }
 },
 "nbformat": 4,
 "nbformat_minor": 2
}
